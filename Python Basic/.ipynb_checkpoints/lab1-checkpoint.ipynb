{
 "cells": [
  {
   "cell_type": "markdown",
   "id": "e909e19c",
   "metadata": {},
   "source": [
    "# Python basics"
   ]
  },
  {
   "cell_type": "markdown",
   "id": "8ccdd841",
   "metadata": {},
   "source": [
    "## Función print()\n",
    "La cadena del argumento de la función puede estar en comillas simples, dobles o triples para indicar múltiples líneas"
   ]
  },
  {
   "cell_type": "code",
   "execution_count": 1,
   "id": "075c5e1f",
   "metadata": {},
   "outputs": [
    {
     "name": "stdout",
     "output_type": "stream",
     "text": [
      "Hello world\n",
      "Hello world\n",
      "\n",
      "Hello \n",
      "\n",
      "world\n",
      "\n"
     ]
    }
   ],
   "source": [
    "print('Hello world')\n",
    "print(\"Hello world\")\n",
    "print(\"\"\"\n",
    "Hello \n",
    "\n",
    "world\n",
    "\"\"\")"
   ]
  },
  {
   "cell_type": "markdown",
   "id": "b4b7ef42",
   "metadata": {},
   "source": [
    "## Comentarios\n",
    "\n",
    "Para agregar un comentario de una sola línea se puede usar # (en el código)\n",
    "\n",
    "Para agregar comentarios de múltiples líneas se puede usar un '#' por cada línea o usar comillas triples.\n"
   ]
  },
  {
   "cell_type": "code",
   "execution_count": null,
   "id": "ae830ce2",
   "metadata": {},
   "outputs": [],
   "source": [
    "print(\"hello world\") #Este es un comentario"
   ]
  },
  {
   "cell_type": "code",
   "execution_count": 2,
   "id": "22b25206",
   "metadata": {},
   "outputs": [
    {
     "name": "stdout",
     "output_type": "stream",
     "text": [
      "hello world\n"
     ]
    }
   ],
   "source": [
    "\"\"\"\n",
    "Este es un comentario de \n",
    "múltiples líneas\n",
    "\n",
    "\"\"\"\n",
    "\n",
    "print(\"hello world\")"
   ]
  },
  {
   "cell_type": "markdown",
   "id": "2151faa8",
   "metadata": {},
   "source": [
    "## Packages and modules\n",
    "\n",
    "Definición de module.\n",
    "Un \"module\" en Python es un archivo que contiene código de Python.\n",
    "\n",
    "Definición de package.\n",
    "Un \"package\" es como una carpeta que contiene modules y subcarpetas.\n",
    "\n",
    "Definición de librería.\n",
    "Una librería contiene múltiples modules.\n",
    "\n",
    "Conforme un proyecto de Python va creciendo, se agrupan \"modules\" similares en un \"package\" y diferentes \"modules\" en diferentes \"packages\".\n",
    "\n",
    "Esto hace a un proyecto (programa) fácil de manejar y conceptualmente claro.\n",
    "\n",
    "### Usar un package en Python\n",
    "\n",
    "import <package_name>\n",
    "\n",
    "### Usar un module en Python\n",
    "\n",
    "from <package_name> import <module>\n"
   ]
  },
  {
   "cell_type": "code",
   "execution_count": 3,
   "id": "5ad46f88",
   "metadata": {},
   "outputs": [
    {
     "data": {
      "text/plain": [
       "'C:\\\\Users\\\\alan_\\\\Documents\\\\Programming\\\\Python-course\\\\Python Basic'"
      ]
     },
     "execution_count": 3,
     "metadata": {},
     "output_type": "execute_result"
    }
   ],
   "source": [
    "import os #Import os module\n",
    "os.getcwd() #Get the current working directory"
   ]
  },
  {
   "cell_type": "code",
   "execution_count": 4,
   "id": "34331c2d",
   "metadata": {},
   "outputs": [
    {
     "data": {
      "text/plain": [
       "'C:\\\\Users\\\\alan_\\\\Documents\\\\Programming\\\\Python-course\\\\Python Basic'"
      ]
     },
     "execution_count": 4,
     "metadata": {},
     "output_type": "execute_result"
    }
   ],
   "source": [
    "from os import getcwd #import getcwd method from os module\n",
    "getcwd()"
   ]
  },
  {
   "cell_type": "markdown",
   "id": "9f851b93",
   "metadata": {},
   "source": [
    "### Si un package es un difícil de llamar se usan alias"
   ]
  },
  {
   "cell_type": "code",
   "execution_count": 5,
   "id": "4f99370d",
   "metadata": {},
   "outputs": [
    {
     "data": {
      "text/plain": [
       "'Windows-10-10.0.19041-SP0'"
      ]
     },
     "execution_count": 5,
     "metadata": {},
     "output_type": "execute_result"
    }
   ],
   "source": [
    "import platform\n",
    "\n",
    "platform.platform()"
   ]
  },
  {
   "cell_type": "code",
   "execution_count": 6,
   "id": "6ba61ab5",
   "metadata": {},
   "outputs": [
    {
     "data": {
      "text/plain": [
       "'Windows-10-10.0.19041-SP0'"
      ]
     },
     "execution_count": 6,
     "metadata": {},
     "output_type": "execute_result"
    }
   ],
   "source": [
    "import platform as pf\n",
    "pf.platform()"
   ]
  },
  {
   "cell_type": "markdown",
   "id": "b1f2290e",
   "metadata": {},
   "source": [
    "# variables\n",
    "\n",
    "Una variable es un contenedor de datos. Existen muchos tipos de datos primitivos y no primitivos."
   ]
  },
  {
   "cell_type": "code",
   "execution_count": 1,
   "id": "74314ee0",
   "metadata": {},
   "outputs": [
    {
     "name": "stdout",
     "output_type": "stream",
     "text": [
      "5\n"
     ]
    }
   ],
   "source": [
    "a = 5\n",
    "\n",
    "print(a)"
   ]
  },
  {
   "cell_type": "code",
   "execution_count": null,
   "id": "1b9ea85e",
   "metadata": {},
   "outputs": [],
   "source": []
  },
  {
   "cell_type": "code",
   "execution_count": 2,
   "id": "8b4d9b50",
   "metadata": {},
   "outputs": [
    {
     "name": "stdout",
     "output_type": "stream",
     "text": [
      "8\n"
     ]
    }
   ],
   "source": [
    "a=8\n",
    "\n",
    "print(a)"
   ]
  },
  {
   "cell_type": "markdown",
   "id": "d553df38",
   "metadata": {},
   "source": [
    "# 1.5 Naming rules and keywords\n",
    "\n",
    "Los nombres de las variables pueden contener letras minúsculas, mayúsculas, dígitos y símbolos."
   ]
  },
  {
   "cell_type": "markdown",
   "id": "57540a93",
   "metadata": {},
   "source": [
    "Los nombres de las variables deben tener sentido"
   ]
  },
  {
   "cell_type": "code",
   "execution_count": 3,
   "id": "f9ea5ec3",
   "metadata": {},
   "outputs": [],
   "source": [
    "awsd = 100 #Nombre sin sentido\n",
    "precio = 100 #Nombre con sentido"
   ]
  },
  {
   "cell_type": "markdown",
   "id": "1682734d",
   "metadata": {},
   "source": [
    "Si el nombre esta conformado por más de una palabra, entonces se deben de separar por guión bajo."
   ]
  },
  {
   "cell_type": "code",
   "execution_count": 4,
   "id": "69f3acb7",
   "metadata": {},
   "outputs": [],
   "source": [
    "numero_de_casos = 900"
   ]
  },
  {
   "cell_type": "code",
   "execution_count": 5,
   "id": "aaeb4d34",
   "metadata": {},
   "outputs": [
    {
     "name": "stdout",
     "output_type": "stream",
     "text": [
      "900\n"
     ]
    }
   ],
   "source": [
    "print(numero_de_casos)"
   ]
  },
  {
   "cell_type": "markdown",
   "id": "3426e3d0",
   "metadata": {},
   "source": [
    "No se debe de empezar por un dígito"
   ]
  },
  {
   "cell_type": "code",
   "execution_count": 6,
   "id": "70d1244b",
   "metadata": {},
   "outputs": [
    {
     "ename": "SyntaxError",
     "evalue": "invalid syntax (867483817.py, line 1)",
     "output_type": "error",
     "traceback": [
      "\u001b[0;36m  Input \u001b[0;32mIn [6]\u001b[0;36m\u001b[0m\n\u001b[0;31m    1a=1\u001b[0m\n\u001b[0m     ^\u001b[0m\n\u001b[0;31mSyntaxError\u001b[0m\u001b[0;31m:\u001b[0m invalid syntax\n"
     ]
    }
   ],
   "source": [
    "1a=1"
   ]
  },
  {
   "cell_type": "markdown",
   "id": "070d96a4",
   "metadata": {},
   "source": [
    "# 1.5.2 Keywords\n",
    "\n",
    "Keywords son palabras reservadas de Python. Estas no pueden ser usadas como nombres de variables.\n",
    "\n",
    "Hay 37 palabras reservadas en Python 3.7"
   ]
  },
  {
   "cell_type": "code",
   "execution_count": 7,
   "id": "bdef1d75",
   "metadata": {},
   "outputs": [
    {
     "ename": "SyntaxError",
     "evalue": "invalid syntax (4253546167.py, line 1)",
     "output_type": "error",
     "traceback": [
      "\u001b[0;36m  Input \u001b[0;32mIn [7]\u001b[0;36m\u001b[0m\n\u001b[0;31m    def = 15\u001b[0m\n\u001b[0m        ^\u001b[0m\n\u001b[0;31mSyntaxError\u001b[0m\u001b[0;31m:\u001b[0m invalid syntax\n"
     ]
    }
   ],
   "source": [
    "def = 15 #Cuando una variable tiene el nombre de una palabra reservada"
   ]
  },
  {
   "cell_type": "markdown",
   "id": "140d7a93",
   "metadata": {},
   "source": [
    "Hay dos formas de listar todas las palabras reservadas de Python"
   ]
  },
  {
   "cell_type": "code",
   "execution_count": 8,
   "id": "aba320d5",
   "metadata": {},
   "outputs": [
    {
     "data": {
      "text/plain": [
       "['False',\n",
       " 'None',\n",
       " 'True',\n",
       " '__peg_parser__',\n",
       " 'and',\n",
       " 'as',\n",
       " 'assert',\n",
       " 'async',\n",
       " 'await',\n",
       " 'break',\n",
       " 'class',\n",
       " 'continue',\n",
       " 'def',\n",
       " 'del',\n",
       " 'elif',\n",
       " 'else',\n",
       " 'except',\n",
       " 'finally',\n",
       " 'for',\n",
       " 'from',\n",
       " 'global',\n",
       " 'if',\n",
       " 'import',\n",
       " 'in',\n",
       " 'is',\n",
       " 'lambda',\n",
       " 'nonlocal',\n",
       " 'not',\n",
       " 'or',\n",
       " 'pass',\n",
       " 'raise',\n",
       " 'return',\n",
       " 'try',\n",
       " 'while',\n",
       " 'with',\n",
       " 'yield']"
      ]
     },
     "execution_count": 8,
     "metadata": {},
     "output_type": "execute_result"
    }
   ],
   "source": [
    "import keyword as kw\n",
    "\n",
    "kw.kwlist"
   ]
  },
  {
   "cell_type": "code",
   "execution_count": 9,
   "id": "f5a64602",
   "metadata": {},
   "outputs": [
    {
     "name": "stdout",
     "output_type": "stream",
     "text": [
      "\n",
      "Here is a list of the Python keywords.  Enter any keyword to get more help.\n",
      "\n",
      "False               break               for                 not\n",
      "None                class               from                or\n",
      "True                continue            global              pass\n",
      "__peg_parser__      def                 if                  raise\n",
      "and                 del                 import              return\n",
      "as                  elif                in                  try\n",
      "assert              else                is                  while\n",
      "async               except              lambda              with\n",
      "await               finally             nonlocal            yield\n",
      "\n"
     ]
    }
   ],
   "source": [
    "help(\"keywords\")"
   ]
  },
  {
   "cell_type": "markdown",
   "id": "df0135a0",
   "metadata": {},
   "source": [
    "## 1.6 Exchange values"
   ]
  },
  {
   "cell_type": "code",
   "execution_count": 10,
   "id": "09e320e4",
   "metadata": {},
   "outputs": [
    {
     "name": "stdout",
     "output_type": "stream",
     "text": [
      "1\n",
      "2\n"
     ]
    }
   ],
   "source": [
    "a = 1\n",
    "b = 2\n",
    "\n",
    "print(a)\n",
    "print(b)"
   ]
  },
  {
   "cell_type": "code",
   "execution_count": 11,
   "id": "6fa01f76",
   "metadata": {},
   "outputs": [
    {
     "name": "stdout",
     "output_type": "stream",
     "text": [
      "2\n",
      "1\n"
     ]
    }
   ],
   "source": [
    "a,b = b,a\n",
    "\n",
    "print(a)\n",
    "print(b)"
   ]
  },
  {
   "cell_type": "markdown",
   "id": "2cc59576",
   "metadata": {},
   "source": [
    "## 1.7 Excution order in Python\n",
    "La ejecución de código en Python se realiza de arriba hacia abajo"
   ]
  },
  {
   "cell_type": "code",
   "execution_count": 12,
   "id": "ca3944a2",
   "metadata": {},
   "outputs": [
    {
     "ename": "NameError",
     "evalue": "name 'y' is not defined",
     "output_type": "error",
     "traceback": [
      "\u001b[0;31m---------------------------------------------------------------------------\u001b[0m",
      "\u001b[0;31mNameError\u001b[0m                                 Traceback (most recent call last)",
      "Input \u001b[0;32mIn [12]\u001b[0m, in \u001b[0;36m<cell line: 2>\u001b[0;34m()\u001b[0m\n\u001b[1;32m      1\u001b[0m x \u001b[38;5;241m=\u001b[39m \u001b[38;5;241m0\u001b[39m\n\u001b[0;32m----> 2\u001b[0m \u001b[38;5;28mprint\u001b[39m(x\u001b[38;5;241m+\u001b[39m\u001b[43my\u001b[49m)\n\u001b[1;32m      3\u001b[0m y \u001b[38;5;241m=\u001b[39m \u001b[38;5;241m1\u001b[39m\n",
      "\u001b[0;31mNameError\u001b[0m: name 'y' is not defined"
     ]
    }
   ],
   "source": [
    "x = 0\n",
    "print(x+y)\n",
    "y = 1"
   ]
  },
  {
   "cell_type": "markdown",
   "id": "3ca3204f",
   "metadata": {},
   "source": [
    "## Identation\n",
    "\n",
    "Un bloque de código (funcion, loop, etc) contiene codigo indentado y termina con una linea vacía.\n",
    "El número de espacios a usar en la identación es libre, pero se debe de usar la misma identación en un bloque de código.\n",
    "La identación hace que Python sea limpio y claro."
   ]
  },
  {
   "cell_type": "code",
   "execution_count": 13,
   "id": "516fc05d",
   "metadata": {},
   "outputs": [],
   "source": [
    "def funct1():\n",
    "    a = 1\n",
    "    b = 2\n",
    "\n",
    "def funct2():\n",
    "    a = 2\n",
    "    b = 2"
   ]
  },
  {
   "cell_type": "markdown",
   "id": "4d5de083",
   "metadata": {},
   "source": [
    "# 1.9 Global variables and local variables\n",
    "\n",
    "Las variables globales son variables declaradas en ambientes globales (codigo de bloque sin identación).\n",
    "Las variables locales son variables declaradas en ambientes globales (codigo de bloque con identación)."
   ]
  },
  {
   "cell_type": "code",
   "execution_count": 14,
   "id": "49a47710",
   "metadata": {},
   "outputs": [
    {
     "name": "stdout",
     "output_type": "stream",
     "text": [
      "4\n"
     ]
    }
   ],
   "source": [
    "a = 1 # variable global\n",
    "\n",
    "def funct():\n",
    "    f = 2 # variable local\n",
    "\n",
    "c = 3\n",
    "\n",
    "print(a+c)"
   ]
  },
  {
   "cell_type": "code",
   "execution_count": 15,
   "id": "6136aea6",
   "metadata": {},
   "outputs": [
    {
     "ename": "NameError",
     "evalue": "name 'f' is not defined",
     "output_type": "error",
     "traceback": [
      "\u001b[0;31m---------------------------------------------------------------------------\u001b[0m",
      "\u001b[0;31mNameError\u001b[0m                                 Traceback (most recent call last)",
      "Input \u001b[0;32mIn [15]\u001b[0m, in \u001b[0;36m<cell line: 4>\u001b[0;34m()\u001b[0m\n\u001b[1;32m      1\u001b[0m \u001b[38;5;66;03m# Si se desea acceder a una variable local desde fuera de su ambito de alcance\u001b[39;00m\n\u001b[1;32m      2\u001b[0m \u001b[38;5;66;03m# entonces mostrará un error\u001b[39;00m\n\u001b[0;32m----> 4\u001b[0m \u001b[38;5;28mprint\u001b[39m(\u001b[43mf\u001b[49m)\n",
      "\u001b[0;31mNameError\u001b[0m: name 'f' is not defined"
     ]
    }
   ],
   "source": [
    "# Si se desea acceder a una variable local desde fuera de su ambito de alcance\n",
    "# entonces mostrará un error\n",
    "\n",
    "print(f)"
   ]
  },
  {
   "cell_type": "markdown",
   "id": "5ddafebc",
   "metadata": {},
   "source": [
    "## 1.10 Standard I/O\n",
    "\n",
    "Para usar la entrada estándar, se usa la función input()\n",
    "Para usar la salida estándar, se usa la función print()"
   ]
  },
  {
   "cell_type": "code",
   "execution_count": 16,
   "id": "f9c1360b",
   "metadata": {},
   "outputs": [
    {
     "name": "stdout",
     "output_type": "stream",
     "text": [
      "input: hola mundo desde input (:\n",
      "hola mundo desde input (:\n"
     ]
    }
   ],
   "source": [
    "s = input(\"input: \")\n",
    "print(s)"
   ]
  },
  {
   "cell_type": "markdown",
   "id": "24f6eeba",
   "metadata": {},
   "source": [
    "## 1.11 Python basic functions\n",
    "\n",
    "### 1.11.1 help() function\n",
    "The Python help function is used to diplay the documentation of modules, functions, classes, keywords, etc"
   ]
  },
  {
   "cell_type": "code",
   "execution_count": 17,
   "id": "8b004e16",
   "metadata": {},
   "outputs": [
    {
     "name": "stdout",
     "output_type": "stream",
     "text": [
      "Help on built-in function print in module builtins:\n",
      "\n",
      "print(...)\n",
      "    print(value, ..., sep=' ', end='\\n', file=sys.stdout, flush=False)\n",
      "    \n",
      "    Prints the values to a stream, or to sys.stdout by default.\n",
      "    Optional keyword arguments:\n",
      "    file:  a file-like object (stream); defaults to the current sys.stdout.\n",
      "    sep:   string inserted between values, default a space.\n",
      "    end:   string appended after the last value, default a newline.\n",
      "    flush: whether to forcibly flush the stream.\n",
      "\n"
     ]
    }
   ],
   "source": [
    "help(print)"
   ]
  },
  {
   "cell_type": "markdown",
   "id": "5d1cc576",
   "metadata": {},
   "source": [
    "### 11.1.2 id() function\n",
    "\n",
    "id() returns de \"identity\" of an object. Basically everything in Python is an object.\n"
   ]
  },
  {
   "cell_type": "code",
   "execution_count": 18,
   "id": "235c9789",
   "metadata": {},
   "outputs": [
    {
     "data": {
      "text/plain": [
       "140545132476720"
      ]
     },
     "execution_count": 18,
     "metadata": {},
     "output_type": "execute_result"
    }
   ],
   "source": [
    "a = 1\n",
    "id(a)"
   ]
  },
  {
   "cell_type": "markdown",
   "id": "bd4cdfe8",
   "metadata": {},
   "source": [
    ".### type() function\n",
    "\n",
    "type() function returns the type of an object"
   ]
  },
  {
   "cell_type": "code",
   "execution_count": 19,
   "id": "74cb29b9",
   "metadata": {},
   "outputs": [
    {
     "data": {
      "text/plain": [
       "int"
      ]
     },
     "execution_count": 19,
     "metadata": {},
     "output_type": "execute_result"
    }
   ],
   "source": [
    "type(a)"
   ]
  },
  {
   "cell_type": "markdown",
   "id": "fa41a318",
   "metadata": {},
   "source": [
    "### del() function\n",
    "\n",
    "del function deletes an object"
   ]
  },
  {
   "cell_type": "code",
   "execution_count": 20,
   "id": "d93d74c0",
   "metadata": {},
   "outputs": [
    {
     "ename": "NameError",
     "evalue": "name 'a' is not defined",
     "output_type": "error",
     "traceback": [
      "\u001b[0;31m---------------------------------------------------------------------------\u001b[0m",
      "\u001b[0;31mNameError\u001b[0m                                 Traceback (most recent call last)",
      "Input \u001b[0;32mIn [20]\u001b[0m, in \u001b[0;36m<cell line: 3>\u001b[0;34m()\u001b[0m\n\u001b[1;32m      1\u001b[0m a \u001b[38;5;241m=\u001b[39m \u001b[38;5;241m1\u001b[39m\n\u001b[1;32m      2\u001b[0m \u001b[38;5;28;01mdel\u001b[39;00m(a)\n\u001b[0;32m----> 3\u001b[0m \u001b[38;5;28mprint\u001b[39m(\u001b[43ma\u001b[49m)\n",
      "\u001b[0;31mNameError\u001b[0m: name 'a' is not defined"
     ]
    }
   ],
   "source": [
    "a = 1\n",
    "del(a)\n",
    "print(a)"
   ]
  },
  {
   "cell_type": "markdown",
   "id": "d694f443",
   "metadata": {},
   "source": [
    "### len() function\n",
    "\n",
    "len displays the length (number of items) of an object"
   ]
  },
  {
   "cell_type": "code",
   "execution_count": 21,
   "id": "a52fc18b",
   "metadata": {},
   "outputs": [
    {
     "data": {
      "text/plain": [
       "5"
      ]
     },
     "execution_count": 21,
     "metadata": {},
     "output_type": "execute_result"
    }
   ],
   "source": [
    "s = \"Hello\"\n",
    "len(s)"
   ]
  },
  {
   "cell_type": "code",
   "execution_count": null,
   "id": "03fd1a11",
   "metadata": {},
   "outputs": [],
   "source": []
  }
 ],
 "metadata": {
  "kernelspec": {
   "display_name": "Python 3 (ipykernel)",
   "language": "python",
   "name": "python3"
  },
  "language_info": {
   "codemirror_mode": {
    "name": "ipython",
    "version": 3
   },
   "file_extension": ".py",
   "mimetype": "text/x-python",
   "name": "python",
   "nbconvert_exporter": "python",
   "pygments_lexer": "ipython3",
   "version": "3.9.12"
  }
 },
 "nbformat": 4,
 "nbformat_minor": 5
}
