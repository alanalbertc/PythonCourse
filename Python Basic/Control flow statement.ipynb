{
 "cells": [
  {
   "cell_type": "markdown",
   "id": "8153d847",
   "metadata": {},
   "source": [
    "# 3. Control Flow Statement\n",
    "The if, while and for statements implement traditional control flow constructs."
   ]
  },
  {
   "cell_type": "markdown",
   "id": "e98c0d4c",
   "metadata": {},
   "source": [
    "## 3.1 if statement\n",
    "\n",
    "The if statement is used for conditional execution.\n",
    "\n",
    "It selects exactly one of the suites by evaluating the expressions one by one until one is found to be true; then that suite is ecexuted (and no other part of the if statement is executed or evaluated). If all expressions are false, the suite of the else clause, if present, is executed.\n",
    "\n",
    "There can be zero or more elif parts, and the else part is iptional. The keyword \"elif\" is short for \"else if\", and is useful to avoid excessive indentation.\n",
    "\n",
    "An if ... elif ... elif ... sequence is a subsittue for the switch or case statements found in other languages."
   ]
  },
  {
   "cell_type": "code",
   "execution_count": 17,
   "id": "03464b52",
   "metadata": {},
   "outputs": [
    {
     "name": "stdout",
     "output_type": "stream",
     "text": [
      "\n",
      "Introduce a score: \n",
      "\n",
      "-20\n",
      "<class 'str'>\n"
     ]
    }
   ],
   "source": [
    "#Let see the flow statement if with scores\n",
    "print(\"\\nIntroduce a score: \\n\")\n",
    "score = input()\n",
    "print(type(score)) #data type of score\n",
    "score = float(score) #cast of score, from str to float"
   ]
  },
  {
   "cell_type": "code",
   "execution_count": 18,
   "id": "1d1f25df",
   "metadata": {},
   "outputs": [
    {
     "name": "stdout",
     "output_type": "stream",
     "text": [
      "F\n"
     ]
    }
   ],
   "source": [
    "if 100 >= score >= 90:\n",
    "    print(\"A\")\n",
    "else:\n",
    "    print(\"F\")"
   ]
  },
  {
   "cell_type": "code",
   "execution_count": 19,
   "id": "2c0dd79a",
   "metadata": {},
   "outputs": [
    {
     "name": "stdout",
     "output_type": "stream",
     "text": [
      "Please enter a correct score\n"
     ]
    }
   ],
   "source": [
    "if 100 >= score >= 90:\n",
    "    print(\"A\")\n",
    "elif 90 > score >= 80:\n",
    "    print(\"B\")\n",
    "elif 80 > score >= 60:\n",
    "    print(\"C\")\n",
    "elif 60 > score >= 0:\n",
    "    print(\"F\")\n",
    "else:\n",
    "    print(\"Please enter a correct score\")"
   ]
  },
  {
   "cell_type": "markdown",
   "id": "421eae69",
   "metadata": {},
   "source": [
    "The conditions can be True or False. 0 and None value are also False, while the other values are True"
   ]
  },
  {
   "cell_type": "code",
   "execution_count": 22,
   "id": "34b8cde9",
   "metadata": {},
   "outputs": [
    {
     "name": "stdout",
     "output_type": "stream",
     "text": [
      "T\n",
      "Python\n"
     ]
    }
   ],
   "source": [
    "if 0:\n",
    "    print(\"F\")\n",
    "if 1:\n",
    "    print(\"T\")\n",
    "if \"Python\":\n",
    "    print(\"Python\")\n",
    "if None:\n",
    "    print(\"None\")"
   ]
  },
  {
   "cell_type": "markdown",
   "id": "7d4790b0",
   "metadata": {},
   "source": [
    "# 3.2 Loops"
   ]
  },
  {
   "cell_type": "markdown",
   "id": "1bce961c",
   "metadata": {},
   "source": [
    "# 3.2.1 whiel loop\n",
    "\n",
    "The while statement is used for repeated execution as long as an expression is true. It's used when we don't know the number of times to iterate beforehand.\n",
    "\n",
    "A break statement executed in the first suite terminatez the loop without executing the else clase's suite.\n",
    "\n",
    "A continue statement executed in the first suite skips the rest of the suite and back to testing the expression."
   ]
  },
  {
   "cell_type": "code",
   "execution_count": 23,
   "id": "a773aeab",
   "metadata": {},
   "outputs": [
    {
     "name": "stdout",
     "output_type": "stream",
     "text": [
      "1\n",
      "2\n",
      "3\n",
      "4\n",
      "5\n",
      "6\n",
      "7\n",
      "8\n",
      "9\n",
      "Loop ends\n"
     ]
    }
   ],
   "source": [
    "i = 0\n",
    "while i < 9:\n",
    "    i += 1\n",
    "    print(i)\n",
    "else:\n",
    "    print(\"Loop ends\")"
   ]
  },
  {
   "cell_type": "code",
   "execution_count": 24,
   "id": "c6e46f25",
   "metadata": {},
   "outputs": [
    {
     "name": "stdout",
     "output_type": "stream",
     "text": [
      "1\n",
      "2\n",
      "Skip this loop\n",
      "4\n",
      "5\n",
      "6\n",
      "7\n",
      "8\n",
      "9\n",
      "Loop ends\n"
     ]
    }
   ],
   "source": [
    "i = 0\n",
    "while i < 9:\n",
    "    i +=1\n",
    "    if i == 3:\n",
    "        print(\"Skip this loop\")\n",
    "        continue # skips the rest of the suite and goes back to testing the expression\n",
    "    print(i)\n",
    "else:\n",
    "    print(\"Loop ends\")"
   ]
  },
  {
   "cell_type": "code",
   "execution_count": 25,
   "id": "b541ffba",
   "metadata": {},
   "outputs": [
    {
     "name": "stdout",
     "output_type": "stream",
     "text": [
      "1\n",
      "2\n",
      "3\n",
      "4\n",
      "Terminates the loop\n"
     ]
    }
   ],
   "source": [
    "i = 0\n",
    "while i < 9:\n",
    "    i += 1\n",
    "    if i == 5:\n",
    "        print(\"Terminates the loop\")\n",
    "        break\n",
    "    print(i)\n",
    "else:\n",
    "    print(\"loop ends\")"
   ]
  },
  {
   "cell_type": "markdown",
   "id": "82ea1414",
   "metadata": {},
   "source": [
    "## 3.2.2 for loop\n",
    "\n",
    "The for statement is used to iterate over the elements of a sequence (such as string, tuple or list) or other iterable object."
   ]
  },
  {
   "cell_type": "code",
   "execution_count": 26,
   "id": "c6df493c",
   "metadata": {},
   "outputs": [
    {
     "name": "stdout",
     "output_type": "stream",
     "text": [
      "first\n",
      "second\n",
      "third\n"
     ]
    }
   ],
   "source": [
    "times = [\"first\",\"second\",\"third\"]\n",
    "\n",
    "for i in times:\n",
    "    print(i)"
   ]
  },
  {
   "cell_type": "markdown",
   "id": "5e78246c",
   "metadata": {},
   "source": [
    "Else statement can be added in the end of for statement. It will be excused when the loop normally ends."
   ]
  },
  {
   "cell_type": "code",
   "execution_count": 27,
   "id": "f7b73626",
   "metadata": {},
   "outputs": [
    {
     "name": "stdout",
     "output_type": "stream",
     "text": [
      "first\n",
      "second\n",
      "third\n",
      "loop ends\n"
     ]
    }
   ],
   "source": [
    "for i in times:\n",
    "    print(i)\n",
    "else:\n",
    "    print(\"loop ends\")"
   ]
  },
  {
   "cell_type": "markdown",
   "id": "a71b327f",
   "metadata": {},
   "source": [
    "## 3.2.3 Nested loops\n",
    "\n",
    "Loops can be nested in Python. A nested loop is a loop that occurs within another loop. Nested loops go over two or more loops."
   ]
  },
  {
   "cell_type": "code",
   "execution_count": 32,
   "id": "df332963",
   "metadata": {},
   "outputs": [
    {
     "name": "stdout",
     "output_type": "stream",
     "text": [
      "1 x 1 = 1  \n",
      "1 x 2 = 2  2 x 2 = 4  \n",
      "1 x 3 = 3  2 x 3 = 6  3 x 3 = 9  \n",
      "1 x 4 = 4  2 x 4 = 8  3 x 4 = 12 4 x 4 = 16 \n",
      "1 x 5 = 5  2 x 5 = 10 3 x 5 = 15 4 x 5 = 20 5 x 5 = 25 \n",
      "1 x 6 = 6  2 x 6 = 12 3 x 6 = 18 4 x 6 = 24 5 x 6 = 30 6 x 6 = 36 \n",
      "1 x 7 = 7  2 x 7 = 14 3 x 7 = 21 4 x 7 = 28 5 x 7 = 35 6 x 7 = 42 7 x 7 = 49 \n",
      "1 x 8 = 8  2 x 8 = 16 3 x 8 = 24 4 x 8 = 32 5 x 8 = 40 6 x 8 = 48 7 x 8 = 56 8 x 8 = 64 \n",
      "1 x 9 = 9  2 x 9 = 18 3 x 9 = 27 4 x 9 = 36 5 x 9 = 45 6 x 9 = 54 7 x 9 = 63 8 x 9 = 72 9 x 9 = 81 \n"
     ]
    }
   ],
   "source": [
    "# Write a multiplication table\n",
    "\n",
    "for i in range(1,10):\n",
    "    for j in range(1,i+1):\n",
    "        print(\"%d x %d = %-2d\"%(j,i,i*j), end =\" \") #string formatting\n",
    "    print()"
   ]
  }
 ],
 "metadata": {
  "kernelspec": {
   "display_name": "Python 3 (ipykernel)",
   "language": "python",
   "name": "python3"
  },
  "language_info": {
   "codemirror_mode": {
    "name": "ipython",
    "version": 3
   },
   "file_extension": ".py",
   "mimetype": "text/x-python",
   "name": "python",
   "nbconvert_exporter": "python",
   "pygments_lexer": "ipython3",
   "version": "3.9.12"
  }
 },
 "nbformat": 4,
 "nbformat_minor": 5
}
