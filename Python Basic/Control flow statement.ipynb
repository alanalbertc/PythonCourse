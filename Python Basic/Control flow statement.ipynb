{
 "cells": [
  {
   "cell_type": "markdown",
   "id": "6338d846",
   "metadata": {},
   "source": [
    "# 3. Control Flow Statement\n",
    "The if, while and for statements implement traditional control flow constructs."
   ]
  },
  {
   "cell_type": "markdown",
   "id": "8f4e037c",
   "metadata": {},
   "source": [
    "## 3.1 if statement\n",
    "\n",
    "The if statement is used for conditional execution.\n",
    "\n",
    "It selects exactly one of the suites by evaluating the expressions one by one until one is found to be true; then that suite is ecexuted (and no other part of the if statement is executed or evaluated). If all expressions are false, the suite of the else clause, if present, is executed.\n",
    "\n",
    "There can be zero or more elif parts, and the else part is iptional. The keyword \"elif\" is short for \"else if\", and is useful to avoid excessive indentation.\n",
    "\n",
    "An if ... elif ... elif ... sequence is a subsittue for the switch or case statements found in other languages."
   ]
  },
  {
   "cell_type": "code",
   "execution_count": 17,
   "id": "cf9782a1",
   "metadata": {},
   "outputs": [
    {
     "name": "stdout",
     "output_type": "stream",
     "text": [
      "\n",
      "Introduce a score: \n",
      "\n",
      "-20\n",
      "<class 'str'>\n"
     ]
    }
   ],
   "source": [
    "#Let see the flow statement if with scores\n",
    "print(\"\\nIntroduce a score: \\n\")\n",
    "score = input()\n",
    "print(type(score)) #data type of score\n",
    "score = float(score) #cast of score, from str to float"
   ]
  },
  {
   "cell_type": "code",
   "execution_count": 18,
   "id": "113a8aaa",
   "metadata": {},
   "outputs": [
    {
     "name": "stdout",
     "output_type": "stream",
     "text": [
      "F\n"
     ]
    }
   ],
   "source": [
    "if 100 >= score >= 90:\n",
    "    print(\"A\")\n",
    "else:\n",
    "    print(\"F\")"
   ]
  },
  {
   "cell_type": "code",
   "execution_count": 19,
   "id": "97fcb6f5",
   "metadata": {},
   "outputs": [
    {
     "name": "stdout",
     "output_type": "stream",
     "text": [
      "Please enter a correct score\n"
     ]
    }
   ],
   "source": [
    "if 100 >= score >= 90:\n",
    "    print(\"A\")\n",
    "elif 90 > score >= 80:\n",
    "    print(\"B\")\n",
    "elif 80 > score >= 60:\n",
    "    print(\"C\")\n",
    "elif 60 > score >= 0:\n",
    "    print(\"F\")\n",
    "else:\n",
    "    print(\"Please enter a correct score\")"
   ]
  },
  {
   "cell_type": "markdown",
   "id": "5afd2071",
   "metadata": {},
   "source": [
    "The conditions can be True or False. 0 and None value are also False, while the other values are True"
   ]
  },
  {
   "cell_type": "code",
   "execution_count": 22,
   "id": "6c11fc21",
   "metadata": {},
   "outputs": [
    {
     "name": "stdout",
     "output_type": "stream",
     "text": [
      "T\n",
      "Python\n"
     ]
    }
   ],
   "source": [
    "if 0:\n",
    "    print(\"F\")\n",
    "if 1:\n",
    "    print(\"T\")\n",
    "if \"Python\":\n",
    "    print(\"Python\")\n",
    "if None:\n",
    "    print(\"None\")"
   ]
  },
  {
   "cell_type": "markdown",
   "id": "7a786281",
   "metadata": {},
   "source": [
    "# 3.2 Loops"
   ]
  },
  {
   "cell_type": "markdown",
   "id": "89b97dfc",
   "metadata": {},
   "source": [
    "# 3.2.1 whiel loop\n",
    "\n",
    "The while statement is used for repeated execution as long as an expression is true. It's used when we don't know the number of times to iterate beforehand.\n",
    "\n",
    "A break statement executed in the first suite terminatez the loop without executing the else clase's suite.\n",
    "\n",
    "A continue statement executed in the first suite skips the rest of the suite and back to testing the expression."
   ]
  },
  {
   "cell_type": "code",
   "execution_count": 23,
   "id": "1297b765",
   "metadata": {},
   "outputs": [
    {
     "name": "stdout",
     "output_type": "stream",
     "text": [
      "1\n",
      "2\n",
      "3\n",
      "4\n",
      "5\n",
      "6\n",
      "7\n",
      "8\n",
      "9\n",
      "Loop ends\n"
     ]
    }
   ],
   "source": [
    "i = 0\n",
    "while i < 9:\n",
    "    i += 1\n",
    "    print(i)\n",
    "else:\n",
    "    print(\"Loop ends\")"
   ]
  },
  {
   "cell_type": "code",
   "execution_count": 24,
   "id": "25dbd86e",
   "metadata": {},
   "outputs": [
    {
     "name": "stdout",
     "output_type": "stream",
     "text": [
      "1\n",
      "2\n",
      "Skip this loop\n",
      "4\n",
      "5\n",
      "6\n",
      "7\n",
      "8\n",
      "9\n",
      "Loop ends\n"
     ]
    }
   ],
   "source": [
    "i = 0\n",
    "while i < 9:\n",
    "    i +=1\n",
    "    if i == 3:\n",
    "        print(\"Skip this loop\")\n",
    "        continue # skips the rest of the suite and goes back to testing the expression\n",
    "    print(i)\n",
    "else:\n",
    "    print(\"Loop ends\")"
   ]
  },
  {
   "cell_type": "code",
   "execution_count": 25,
   "id": "4ab56ba3",
   "metadata": {},
   "outputs": [
    {
     "name": "stdout",
     "output_type": "stream",
     "text": [
      "1\n",
      "2\n",
      "3\n",
      "4\n",
      "Terminates the loop\n"
     ]
    }
   ],
   "source": [
    "i = 0\n",
    "while i < 9:\n",
    "    i += 1\n",
    "    if i == 5:\n",
    "        print(\"Terminates the loop\")\n",
    "        break\n",
    "    print(i)\n",
    "else:\n",
    "    print(\"loop ends\")"
   ]
  },
  {
   "cell_type": "markdown",
   "id": "ae724309",
   "metadata": {},
   "source": []
  }
 ],
 "metadata": {
  "kernelspec": {
   "display_name": "Python 3 (ipykernel)",
   "language": "python",
   "name": "python3"
  },
  "language_info": {
   "codemirror_mode": {
    "name": "ipython",
    "version": 3
   },
   "file_extension": ".py",
   "mimetype": "text/x-python",
   "name": "python",
   "nbconvert_exporter": "python",
   "pygments_lexer": "ipython3",
   "version": "3.9.12"
  }
 },
 "nbformat": 4,
 "nbformat_minor": 5
}
