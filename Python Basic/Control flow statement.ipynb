{
 "cells": [
  {
   "cell_type": "markdown",
   "id": "06970865",
   "metadata": {},
   "source": [
    "# 3. Control Flow Statement\n",
    "The if, while and for statements implement traditional control flow constructs."
   ]
  },
  {
   "cell_type": "markdown",
   "id": "05427994",
   "metadata": {},
   "source": [
    "## 3.1 if statement\n",
    "\n",
    "The if statement is used for conditional execution.\n",
    "\n",
    "It selects exactly one of the suites by evaluating the expressions one by one until one is found to be true; then that suite is ecexuted (and no other part of the if statement is executed or evaluated). If all expressions are false, the suite of the else clause, if present, is executed.\n",
    "\n",
    "There can be zero or more elif parts, and the else part is iptional. The keyword \"elif\" is short for \"else if\", and is useful to avoid excessive indentation.\n",
    "\n",
    "An if ... elif ... elif ... sequence is a subsittue for the switch or case statements found in other languages."
   ]
  },
  {
   "cell_type": "code",
   "execution_count": 17,
   "id": "e557ac64",
   "metadata": {},
   "outputs": [
    {
     "name": "stdout",
     "output_type": "stream",
     "text": [
      "\n",
      "Introduce a score: \n",
      "\n",
      "-20\n",
      "<class 'str'>\n"
     ]
    }
   ],
   "source": [
    "#Let see the flow statement if with scores\n",
    "print(\"\\nIntroduce a score: \\n\")\n",
    "score = input()\n",
    "print(type(score)) #data type of score\n",
    "score = float(score) #cast of score, from str to float"
   ]
  },
  {
   "cell_type": "code",
   "execution_count": 18,
   "id": "4fdeff26",
   "metadata": {},
   "outputs": [
    {
     "name": "stdout",
     "output_type": "stream",
     "text": [
      "F\n"
     ]
    }
   ],
   "source": [
    "if 100 >= score >= 90:\n",
    "    print(\"A\")\n",
    "else:\n",
    "    print(\"F\")"
   ]
  },
  {
   "cell_type": "code",
   "execution_count": 19,
   "id": "b637c894",
   "metadata": {},
   "outputs": [
    {
     "name": "stdout",
     "output_type": "stream",
     "text": [
      "Please enter a correct score\n"
     ]
    }
   ],
   "source": [
    "if 100 >= score >= 90:\n",
    "    print(\"A\")\n",
    "elif 90 > score >= 80:\n",
    "    print(\"B\")\n",
    "elif 80 > score >= 60:\n",
    "    print(\"C\")\n",
    "elif 60 > score >= 0:\n",
    "    print(\"F\")\n",
    "else:\n",
    "    print(\"Please enter a correct score\")"
   ]
  },
  {
   "cell_type": "markdown",
   "id": "1e08b1db",
   "metadata": {},
   "source": [
    "The conditions can be True or False. 0 and None value are also False, while the other values are True"
   ]
  },
  {
   "cell_type": "code",
   "execution_count": 22,
   "id": "6ee2c8da",
   "metadata": {},
   "outputs": [
    {
     "name": "stdout",
     "output_type": "stream",
     "text": [
      "T\n",
      "Python\n"
     ]
    }
   ],
   "source": [
    "if 0:\n",
    "    print(\"F\")\n",
    "if 1:\n",
    "    print(\"T\")\n",
    "if \"Python\":\n",
    "    print(\"Python\")\n",
    "if None:\n",
    "    print(\"None\")"
   ]
  }
 ],
 "metadata": {
  "kernelspec": {
   "display_name": "Python 3 (ipykernel)",
   "language": "python",
   "name": "python3"
  },
  "language_info": {
   "codemirror_mode": {
    "name": "ipython",
    "version": 3
   },
   "file_extension": ".py",
   "mimetype": "text/x-python",
   "name": "python",
   "nbconvert_exporter": "python",
   "pygments_lexer": "ipython3",
   "version": "3.9.12"
  }
 },
 "nbformat": 4,
 "nbformat_minor": 5
}
