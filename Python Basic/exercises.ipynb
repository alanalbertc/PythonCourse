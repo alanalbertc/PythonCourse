{
 "cells": [
  {
   "attachments": {},
   "cell_type": "markdown",
   "metadata": {},
   "source": [
    "## Sum of the Digits in an Integer.\n",
    " \n",
    " Develop a program that reads a four-digit integer from the user and displays the sum of the digits in the number. For example, if the user enters 3141 then your program should display 3 + 1 + 4 + 1 = 9."
   ]
  },
  {
   "cell_type": "code",
   "execution_count": 13,
   "metadata": {},
   "outputs": [
    {
     "name": "stdout",
     "output_type": "stream",
     "text": [
      "3 + 1 + 4 + 1 = 9\n"
     ]
    }
   ],
   "source": [
    "num = int(input(\"Ingresa un numero: \"))\n",
    "un_mill = num // 1000\n",
    "num -= (un_mill * 1000)\n",
    "centenas = num // 100\n",
    "num -= centenas * 100\n",
    "decenas = num // 10\n",
    "num -= (decenas * 10)\n",
    "resultado = un_mill + centenas + decenas + num\n",
    "print(str(un_mill) + \" + \" + str(centenas) + \" + \" + str(decenas) + \" + \" + str(num) + \" = \" + str(resultado))"
   ]
  },
  {
   "attachments": {},
   "cell_type": "markdown",
   "metadata": {},
   "source": [
    "## Day Old Bread\n",
    "\n",
    "A bakery sells loaves of bread for $3.49 each. Day old bread is discounted by 60 percent. Write a program that begins by reading the number of loaves of day old bread being purchased from the user. Then your program should display the regular price for the bread, the discount because it is a day old, and the total price. All of the values should be displayed using two decimal places, and the decimal points in all of the numbers should be aligned when reasonable values are entered by the user."
   ]
  },
  {
   "cell_type": "code",
   "execution_count": 27,
   "metadata": {},
   "outputs": [
    {
     "name": "stdout",
     "output_type": "stream",
     "text": [
      "\n",
      "El precio de cada rebanada es de $3.49 USD\n",
      "\n",
      "\n",
      "\n",
      "Cantidad:\t3\n",
      "Subtotal:\t$ 10.47\n",
      "Descuento:\t$ 6.28\n",
      "Total:\t\t$ 4.19\n",
      "\n",
      "Gracias por su compra!!\n"
     ]
    }
   ],
   "source": [
    "num_loav_brd = int(input(\"Ingresa el numero de rebanadas a comprar\"))\n",
    "print(\"\\nEl precio de cada rebanada es de $3.49 USD\\n\\n\")\n",
    "print(\"\\nCantidad:\\t\"+str(num_loav_brd))\n",
    "total = 3.49 * num_loav_brd\n",
    "print(\"Subtotal:\\t\"+\"$ \"+str(\"%.2f\" %total))\n",
    "descto = total * 0.6\n",
    "total -= descto\n",
    "print(\"Descuento:\\t\"+\"$ \"+str(\"%.2f\" %descto))\n",
    "print(\"Total:\\t\\t\"+\"$ \"+str(\"%.2f\" %total))\n",
    "print(\"\\nGracias por su compra!!\")\n"
   ]
  },
  {
   "attachments": {},
   "cell_type": "markdown",
   "metadata": {},
   "source": [
    "# If statement exercises"
   ]
  },
  {
   "attachments": {},
   "cell_type": "markdown",
   "metadata": {},
   "source": [
    "##  Even or Odd?\n",
    "\n",
    "Write a program that reads an integer from the user. Then your program should display a message indicating whether the integer is even or odd."
   ]
  },
  {
   "cell_type": "code",
   "execution_count": 29,
   "metadata": {},
   "outputs": [
    {
     "name": "stdout",
     "output_type": "stream",
     "text": [
      "\n",
      "El numero ingresado es impar\n"
     ]
    }
   ],
   "source": [
    "num = int(input(\"\\nIngresa un numero\"))\n",
    "\n",
    "if(num%2 == 0):\n",
    "    print(\"\\nEl numero ingresado es par\")\n",
    "else:\n",
    "    print(\"\\nEl numero ingresado es impar\")"
   ]
  },
  {
   "attachments": {},
   "cell_type": "markdown",
   "metadata": {},
   "source": [
    "##  Vowel or Consonant\n",
    "\n",
    "In this exercise you will create a program that reads a letter of the alphabet from the user. If the user enters a, e, i, o or u then your program should display a message indicating that the entered letter is a vowel. If the user enters y then your program should display a message indicating that sometimes y is a vowel, and sometimes y is a consonant. Otherwise your program should display a message indicating that the letter is a consonant."
   ]
  },
  {
   "cell_type": "code",
   "execution_count": 6,
   "metadata": {},
   "outputs": [
    {
     "name": "stdout",
     "output_type": "stream",
     "text": [
      "A es una vocal\n"
     ]
    }
   ],
   "source": [
    "import sys\n",
    "\n",
    "char = str(input(\"\\nIngresa una letra: \"))\n",
    "\n",
    "# validacion de datos de entrada\n",
    "if (len(char) > 1):\n",
    "    print(\"\\nError: Ingresa solo una letra\")\n",
    "    sys.exit(1)\n",
    "\n",
    "if (char.lower() == \"a\" or char.lower() == \"e\" or char.lower() == \"i\" or char.lower() == \"o\" or char.lower() == \"u\"):\n",
    "    print(char+\" es una vocal\")\n",
    "elif(char.lower() == \"y\"):\n",
    "    print(char + \" en ingles a veces es una vocal\")\n",
    "else:\n",
    "    print(char + \" NO es una vocal\")"
   ]
  },
  {
   "attachments": {},
   "cell_type": "markdown",
   "metadata": {},
   "source": [
    "##  Dog Years\n",
    "\n",
    " It is commonly said that one human year is equivalent to 7 dog years. However this simple conversion fails to recognize that dogs reach adulthood in approximately two years. As a result, some people believe that it is better to count each of the first two human years as 10.5 dog years, and then count each additional human year as 4 dog years.Write a program that implements the conversion from human years to dog years described in the previous paragraph. Ensure that your program works correctly for conversions of less than two human years and for conversions of two or more human years. Your program should display an appropriate error message if the user enters a negative number."
   ]
  },
  {
   "cell_type": "code",
   "execution_count": 15,
   "metadata": {},
   "outputs": [
    {
     "name": "stdout",
     "output_type": "stream",
     "text": [
      "\n",
      "Error: El numero de años no puede ser negativo\n"
     ]
    },
    {
     "ename": "SystemExit",
     "evalue": "1",
     "output_type": "error",
     "traceback": [
      "An exception has occurred, use %tb to see the full traceback.\n",
      "\u001b[1;31mSystemExit\u001b[0m\u001b[1;31m:\u001b[0m 1\n"
     ]
    },
    {
     "name": "stderr",
     "output_type": "stream",
     "text": [
      "C:\\Users\\alan_\\AppData\\Roaming\\Python\\Python311\\site-packages\\IPython\\core\\interactiveshell.py:3513: UserWarning: To exit: use 'exit', 'quit', or Ctrl-D.\n",
      "  warn(\"To exit: use 'exit', 'quit', or Ctrl-D.\", stacklevel=1)\n"
     ]
    }
   ],
   "source": [
    "years = int(input(\"\\nIngresa la edad real de tu perro: \"))\n",
    "\n",
    "if(years < 0):\n",
    "    print(\"\\nError: El numero de años no puede ser negativo\")\n",
    "    sys.exit(1)\n",
    "\n",
    "if(years <= 2):\n",
    "    years *= 10.5\n",
    "else:\n",
    "    aux = 2 * 10.5\n",
    "    years -= 2\n",
    "    years *= 4\n",
    "    years += aux\n",
    "\n",
    "print(\"\\nTu perro tiene %d años humanos\" %(years))"
   ]
  },
  {
   "attachments": {
    "image.png": {
     "image/png": "[encoded data removed]"
    }
   },
   "cell_type": "markdown",
   "metadata": {},
   "source": [
    "##  Note To Frequency\n",
    "\n",
    "The following table lists an octave of music notes, beginning with middle C, along with their frequencies.\n",
    "\n",
    "![image.png](attachment:image.png)\n",
    "\n",
    "Begin by writing a program that reads the name of a note from the user and displays the note’s frequency. Your program should support all of the notes listed previously.Once you have your program working correctly for the notes listed previously you should add support for all of the notes from C0 to C8. While this could be done by adding many additional cases to your if statement, such a solution is cumbersome, inelegant and unacceptable for the purposes of this exercise. Instead, you should exploit the relationship between notes in adjacent octaves. In particular, the frequency of any note in octave n is half the frequency of the corresponding note in octave n+1. By using this relationship, you should be able to add support for the additional notes without adding additional cases to your if statement.\n"
   ]
  },
  {
   "cell_type": "code",
   "execution_count": null,
   "metadata": {},
   "outputs": [],
   "source": []
  },
  {
   "attachments": {},
   "cell_type": "markdown",
   "metadata": {},
   "source": [
    "##  Frequency To Note\n",
    "\n",
    "In the previous question you converted from note name to frequency. In this question you will write a program that reverses that process. Begin by reading a frequency from the user. If the frequency is within one Hertz of a value listed in the table in the previous question then report the name of the note. Otherwise report that the frequency does not correspond to a known note. In this exercise you only need to consider the notes listed in the table. There is no need to consider notes from other octaves."
   ]
  },
  {
   "cell_type": "code",
   "execution_count": null,
   "metadata": {},
   "outputs": [],
   "source": []
  },
  {
   "attachments": {
    "image.png": {
     "image/png": "[encoded data removed]"
    }
   },
   "cell_type": "markdown",
   "metadata": {},
   "source": [
    "##  What Color is that Square?\n",
    "\n",
    "Positions on a chess board are identified by a letter and a number. The letter identifies the column, while the number identifies the row, as shown below:\n",
    "\n",
    "![image.png](attachment:image.png)\n",
    "\n",
    "Write a program that reads a position from the user. Use an if statement to determine if the column begins with a black square or a white square. Then use modular arithmetic to report the color of the square in that row. For example, if the user enters a1 then your program should report that the square is black. If the user enters d5 then your program should report that the square is white. Your program may assume that a valid position will always be entered. It does not need to perform any error checking."
   ]
  }
 ],
 "metadata": {
  "kernelspec": {
   "display_name": "Python 3",
   "language": "python",
   "name": "python3"
  },
  "language_info": {
   "codemirror_mode": {
    "name": "ipython",
    "version": 3
   },
   "file_extension": ".py",
   "mimetype": "text/x-python",
   "name": "python",
   "nbconvert_exporter": "python",
   "pygments_lexer": "ipython3",
   "version": "3.11.0"
  },
  "orig_nbformat": 4
 },
 "nbformat": 4,
 "nbformat_minor": 2
}
