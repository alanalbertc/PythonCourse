{
 "cells": [
  {
   "cell_type": "markdown",
   "id": "e909e19c",
   "metadata": {},
   "source": [
    "# Python basics"
   ]
  },
  {
   "cell_type": "markdown",
   "id": "8ccdd841",
   "metadata": {},
   "source": [
    "## Función print()\n",
    "La cadena del argumento de la función puede estar en comillas simples, dobles o triples para indicar múltiples líneas"
   ]
  },
  {
   "cell_type": "code",
   "execution_count": 1,
   "id": "075c5e1f",
   "metadata": {},
   "outputs": [
    {
     "name": "stdout",
     "output_type": "stream",
     "text": [
      "Hello world\n",
      "Hello world\n",
      "\n",
      "Hello \n",
      "\n",
      "world\n",
      "\n"
     ]
    }
   ],
   "source": [
    "print('Hello world')\n",
    "print(\"Hello world\")\n",
    "print(\"\"\"\n",
    "Hello \n",
    "\n",
    "world\n",
    "\"\"\")"
   ]
  },
  {
   "cell_type": "markdown",
   "id": "b4b7ef42",
   "metadata": {},
   "source": [
    "## Comentarios\n",
    "\n",
    "Para agregar un comentario de una sola línea se puede usar # (en el código)\n",
    "\n",
    "Para agregar comentarios de múltiples líneas se puede usar un '#' por cada línea o usar comillas triples.\n"
   ]
  },
  {
   "cell_type": "code",
   "execution_count": null,
   "id": "ae830ce2",
   "metadata": {},
   "outputs": [],
   "source": [
    "print(\"hello world\") #Este es un comentario"
   ]
  },
  {
   "cell_type": "code",
   "execution_count": 2,
   "id": "22b25206",
   "metadata": {},
   "outputs": [
    {
     "name": "stdout",
     "output_type": "stream",
     "text": [
      "hello world\n"
     ]
    }
   ],
   "source": [
    "\"\"\"\n",
    "Este es un comentario de \n",
    "múltiples líneas\n",
    "\n",
    "\"\"\"\n",
    "\n",
    "print(\"hello world\")"
   ]
  },
  {
   "cell_type": "markdown",
   "id": "2151faa8",
   "metadata": {},
   "source": [
    "## Packages and modules\n",
    "\n",
    "Definición de module.\n",
    "Un \"module\" en Python es un archivo que contiene código de Python.\n",
    "\n",
    "Definición de package.\n",
    "Un \"package\" es como una carpeta que contiene modules y subcarpetas.\n",
    "\n",
    "Definición de librería.\n",
    "Una librería contiene múltiples modules.\n",
    "\n",
    "Conforme un proyecto de Python va creciendo, se agrupan \"modules\" similares en un \"package\" y diferentes \"modules\" en diferentes \"packages\".\n",
    "\n",
    "Esto hace a un proyecto (programa) fácil de manejar y conceptualmente claro.\n",
    "\n",
    "### Usar un package en Python\n",
    "\n",
    "import <package_name>\n",
    "\n",
    "### Usar un module en Python\n",
    "\n",
    "from <package_name> import <module>\n"
   ]
  },
  {
   "cell_type": "code",
   "execution_count": 3,
   "id": "5ad46f88",
   "metadata": {},
   "outputs": [
    {
     "data": {
      "text/plain": [
       "'C:\\\\Users\\\\alan_\\\\Documents\\\\Programming\\\\Python-course\\\\Python Basic'"
      ]
     },
     "execution_count": 3,
     "metadata": {},
     "output_type": "execute_result"
    }
   ],
   "source": [
    "import os #Import os module\n",
    "os.getcwd() #Get the current working directory"
   ]
  },
  {
   "cell_type": "code",
   "execution_count": 4,
   "id": "34331c2d",
   "metadata": {},
   "outputs": [
    {
     "data": {
      "text/plain": [
       "'C:\\\\Users\\\\alan_\\\\Documents\\\\Programming\\\\Python-course\\\\Python Basic'"
      ]
     },
     "execution_count": 4,
     "metadata": {},
     "output_type": "execute_result"
    }
   ],
   "source": [
    "from os import getcwd #import getcwd method from os module\n",
    "getcwd()"
   ]
  },
  {
   "cell_type": "markdown",
   "id": "9f851b93",
   "metadata": {},
   "source": [
    "### Si un package es un difícil de llamar se usan alias"
   ]
  },
  {
   "cell_type": "code",
   "execution_count": 5,
   "id": "4f99370d",
   "metadata": {},
   "outputs": [
    {
     "data": {
      "text/plain": [
       "'Windows-10-10.0.19041-SP0'"
      ]
     },
     "execution_count": 5,
     "metadata": {},
     "output_type": "execute_result"
    }
   ],
   "source": [
    "import platform\n",
    "\n",
    "platform.platform()"
   ]
  },
  {
   "cell_type": "code",
   "execution_count": 6,
   "id": "6ba61ab5",
   "metadata": {},
   "outputs": [
    {
     "data": {
      "text/plain": [
       "'Windows-10-10.0.19041-SP0'"
      ]
     },
     "execution_count": 6,
     "metadata": {},
     "output_type": "execute_result"
    }
   ],
   "source": [
    "import platform as pf\n",
    "pf.platform()"
   ]
  },
  {
   "cell_type": "markdown",
   "id": "b1f2290e",
   "metadata": {},
   "source": [
    "# variables\n",
    "\n",
    "Una variable es un contenedor de datos. Existen muchos tipos de datos primitivos y no primitivos."
   ]
  },
  {
   "cell_type": "code",
   "execution_count": 1,
   "id": "74314ee0",
   "metadata": {},
   "outputs": [
    {
     "name": "stdout",
     "output_type": "stream",
     "text": [
      "5\n"
     ]
    }
   ],
   "source": [
    "a = 5\n",
    "\n",
    "print(a)"
   ]
  },
  {
   "cell_type": "code",
   "execution_count": null,
   "id": "1b9ea85e",
   "metadata": {},
   "outputs": [],
   "source": []
  },
  {
   "cell_type": "code",
   "execution_count": 2,
   "id": "8b4d9b50",
   "metadata": {},
   "outputs": [
    {
     "name": "stdout",
     "output_type": "stream",
     "text": [
      "8\n"
     ]
    }
   ],
   "source": [
    "a=8\n",
    "\n",
    "print(a)"
   ]
  },
  {
   "cell_type": "markdown",
   "id": "d553df38",
   "metadata": {},
   "source": [
    "# 1.5 Naming rules and keywords\n",
    "\n",
    "Los nombres de las variables pueden contener letras minúsculas, mayúsculas, dígitos y símbolos."
   ]
  },
  {
   "cell_type": "markdown",
   "id": "57540a93",
   "metadata": {},
   "source": [
    "Los nombres de las variables deben tener sentido"
   ]
  },
  {
   "cell_type": "code",
   "execution_count": 3,
   "id": "f9ea5ec3",
   "metadata": {},
   "outputs": [],
   "source": [
    "awsd = 100 #Nombre sin sentido\n",
    "precio = 100 #Nombre con sentido"
   ]
  },
  {
   "cell_type": "markdown",
   "id": "1682734d",
   "metadata": {},
   "source": [
    "Si el nombre esta conformado por más de una palabra, entonces se deben de separar por guión bajo."
   ]
  },
  {
   "cell_type": "code",
   "execution_count": 4,
   "id": "69f3acb7",
   "metadata": {},
   "outputs": [],
   "source": [
    "numero_de_casos = 900"
   ]
  },
  {
   "cell_type": "code",
   "execution_count": 5,
   "id": "aaeb4d34",
   "metadata": {},
   "outputs": [
    {
     "name": "stdout",
     "output_type": "stream",
     "text": [
      "900\n"
     ]
    }
   ],
   "source": [
    "print(numero_de_casos)"
   ]
  },
  {
   "cell_type": "markdown",
   "id": "3426e3d0",
   "metadata": {},
   "source": [
    "No se debe de empezar por un dígito"
   ]
  },
  {
   "cell_type": "code",
   "execution_count": 6,
   "id": "70d1244b",
   "metadata": {},
   "outputs": [
    {
     "ename": "SyntaxError",
     "evalue": "invalid syntax (867483817.py, line 1)",
     "output_type": "error",
     "traceback": [
      "\u001b[0;36m  Input \u001b[0;32mIn [6]\u001b[0;36m\u001b[0m\n\u001b[0;31m    1a=1\u001b[0m\n\u001b[0m     ^\u001b[0m\n\u001b[0;31mSyntaxError\u001b[0m\u001b[0;31m:\u001b[0m invalid syntax\n"
     ]
    }
   ],
   "source": [
    "1a=1"
   ]
  },
  {
   "cell_type": "markdown",
   "id": "070d96a4",
   "metadata": {},
   "source": [
    "# 1.5.2 Keywords\n",
    "\n",
    "Keywords son palabras reservadas de Python. Estas no pueden ser usadas como nombres de variables.\n",
    "\n",
    "Hay 37 palabras reservadas en Python 3.7"
   ]
  },
  {
   "cell_type": "code",
   "execution_count": 7,
   "id": "bdef1d75",
   "metadata": {},
   "outputs": [
    {
     "ename": "SyntaxError",
     "evalue": "invalid syntax (4253546167.py, line 1)",
     "output_type": "error",
     "traceback": [
      "\u001b[0;36m  Input \u001b[0;32mIn [7]\u001b[0;36m\u001b[0m\n\u001b[0;31m    def = 15\u001b[0m\n\u001b[0m        ^\u001b[0m\n\u001b[0;31mSyntaxError\u001b[0m\u001b[0;31m:\u001b[0m invalid syntax\n"
     ]
    }
   ],
   "source": [
    "def = 15 #Cuando una variable tiene el nombre de una palabra reservada"
   ]
  },
  {
   "cell_type": "markdown",
   "id": "140d7a93",
   "metadata": {},
   "source": [
    "Hay dos formas de listar todas las palabras reservadas de Python"
   ]
  },
  {
   "cell_type": "code",
   "execution_count": 8,
   "id": "aba320d5",
   "metadata": {},
   "outputs": [
    {
     "data": {
      "text/plain": [
       "['False',\n",
       " 'None',\n",
       " 'True',\n",
       " '__peg_parser__',\n",
       " 'and',\n",
       " 'as',\n",
       " 'assert',\n",
       " 'async',\n",
       " 'await',\n",
       " 'break',\n",
       " 'class',\n",
       " 'continue',\n",
       " 'def',\n",
       " 'del',\n",
       " 'elif',\n",
       " 'else',\n",
       " 'except',\n",
       " 'finally',\n",
       " 'for',\n",
       " 'from',\n",
       " 'global',\n",
       " 'if',\n",
       " 'import',\n",
       " 'in',\n",
       " 'is',\n",
       " 'lambda',\n",
       " 'nonlocal',\n",
       " 'not',\n",
       " 'or',\n",
       " 'pass',\n",
       " 'raise',\n",
       " 'return',\n",
       " 'try',\n",
       " 'while',\n",
       " 'with',\n",
       " 'yield']"
      ]
     },
     "execution_count": 8,
     "metadata": {},
     "output_type": "execute_result"
    }
   ],
   "source": [
    "import keyword as kw\n",
    "\n",
    "kw.kwlist"
   ]
  },
  {
   "cell_type": "code",
   "execution_count": 9,
   "id": "f5a64602",
   "metadata": {},
   "outputs": [
    {
     "name": "stdout",
     "output_type": "stream",
     "text": [
      "\n",
      "Here is a list of the Python keywords.  Enter any keyword to get more help.\n",
      "\n",
      "False               break               for                 not\n",
      "None                class               from                or\n",
      "True                continue            global              pass\n",
      "__peg_parser__      def                 if                  raise\n",
      "and                 del                 import              return\n",
      "as                  elif                in                  try\n",
      "assert              else                is                  while\n",
      "async               except              lambda              with\n",
      "await               finally             nonlocal            yield\n",
      "\n"
     ]
    }
   ],
   "source": [
    "help(\"keywords\")"
   ]
  },
  {
   "cell_type": "markdown",
   "id": "df0135a0",
   "metadata": {},
   "source": [
    "## 1.6 Exchange values"
   ]
  },
  {
   "cell_type": "code",
   "execution_count": 10,
   "id": "09e320e4",
   "metadata": {},
   "outputs": [
    {
     "name": "stdout",
     "output_type": "stream",
     "text": [
      "1\n",
      "2\n"
     ]
    }
   ],
   "source": [
    "a = 1\n",
    "b = 2\n",
    "\n",
    "print(a)\n",
    "print(b)"
   ]
  },
  {
   "cell_type": "code",
   "execution_count": 11,
   "id": "6fa01f76",
   "metadata": {},
   "outputs": [
    {
     "name": "stdout",
     "output_type": "stream",
     "text": [
      "2\n",
      "1\n"
     ]
    }
   ],
   "source": [
    "a,b = b,a\n",
    "\n",
    "print(a)\n",
    "print(b)"
   ]
  },
  {
   "cell_type": "markdown",
   "id": "2cc59576",
   "metadata": {},
   "source": [
    "## 1.7 Excution order in Python\n",
    "La ejecución de código en Python se realiza de arriba hacia abajo"
   ]
  },
  {
   "cell_type": "code",
   "execution_count": 12,
   "id": "ca3944a2",
   "metadata": {},
   "outputs": [
    {
     "ename": "NameError",
     "evalue": "name 'y' is not defined",
     "output_type": "error",
     "traceback": [
      "\u001b[0;31m---------------------------------------------------------------------------\u001b[0m",
      "\u001b[0;31mNameError\u001b[0m                                 Traceback (most recent call last)",
      "Input \u001b[0;32mIn [12]\u001b[0m, in \u001b[0;36m<cell line: 2>\u001b[0;34m()\u001b[0m\n\u001b[1;32m      1\u001b[0m x \u001b[38;5;241m=\u001b[39m \u001b[38;5;241m0\u001b[39m\n\u001b[0;32m----> 2\u001b[0m \u001b[38;5;28mprint\u001b[39m(x\u001b[38;5;241m+\u001b[39m\u001b[43my\u001b[49m)\n\u001b[1;32m      3\u001b[0m y \u001b[38;5;241m=\u001b[39m \u001b[38;5;241m1\u001b[39m\n",
      "\u001b[0;31mNameError\u001b[0m: name 'y' is not defined"
     ]
    }
   ],
   "source": [
    "x = 0\n",
    "print(x+y)\n",
    "y = 1"
   ]
  },
  {
   "cell_type": "markdown",
   "id": "3ca3204f",
   "metadata": {},
   "source": [
    "## Identation\n",
    "\n",
    "Un bloque de código (funcion, loop, etc) contiene codigo indentado y termina con una linea vacía.\n",
    "El número de espacios a usar en la identación es libre, pero se debe de usar la misma identación en un bloque de código.\n",
    "La identación hace que Python sea limpio y claro."
   ]
  },
  {
   "cell_type": "code",
   "execution_count": 13,
   "id": "516fc05d",
   "metadata": {},
   "outputs": [],
   "source": [
    "def funct1():\n",
    "    a = 1\n",
    "    b = 2\n",
    "\n",
    "def funct2():\n",
    "    a = 2\n",
    "    b = 2"
   ]
  },
  {
   "cell_type": "markdown",
   "id": "4d5de083",
   "metadata": {},
   "source": [
    "# 1.9 Global variables and local variables\n",
    "\n",
    "Las variables globales son variables declaradas en ambientes globales (codigo de bloque sin identación).\n",
    "Las variables locales son variables declaradas en ambientes globales (codigo de bloque con identación)."
   ]
  },
  {
   "cell_type": "code",
   "execution_count": 14,
   "id": "49a47710",
   "metadata": {},
   "outputs": [
    {
     "name": "stdout",
     "output_type": "stream",
     "text": [
      "4\n"
     ]
    }
   ],
   "source": [
    "a = 1 # variable global\n",
    "\n",
    "def funct():\n",
    "    f = 2 # variable local\n",
    "\n",
    "c = 3\n",
    "\n",
    "print(a+c)"
   ]
  },
  {
   "cell_type": "code",
   "execution_count": 15,
   "id": "6136aea6",
   "metadata": {},
   "outputs": [
    {
     "ename": "NameError",
     "evalue": "name 'f' is not defined",
     "output_type": "error",
     "traceback": [
      "\u001b[0;31m---------------------------------------------------------------------------\u001b[0m",
      "\u001b[0;31mNameError\u001b[0m                                 Traceback (most recent call last)",
      "Input \u001b[0;32mIn [15]\u001b[0m, in \u001b[0;36m<cell line: 4>\u001b[0;34m()\u001b[0m\n\u001b[1;32m      1\u001b[0m \u001b[38;5;66;03m# Si se desea acceder a una variable local desde fuera de su ambito de alcance\u001b[39;00m\n\u001b[1;32m      2\u001b[0m \u001b[38;5;66;03m# entonces mostrará un error\u001b[39;00m\n\u001b[0;32m----> 4\u001b[0m \u001b[38;5;28mprint\u001b[39m(\u001b[43mf\u001b[49m)\n",
      "\u001b[0;31mNameError\u001b[0m: name 'f' is not defined"
     ]
    }
   ],
   "source": [
    "# Si se desea acceder a una variable local desde fuera de su ambito de alcance\n",
    "# entonces mostrará un error\n",
    "\n",
    "print(f)"
   ]
  },
  {
   "cell_type": "markdown",
   "id": "5ddafebc",
   "metadata": {},
   "source": [
    "## 1.10 Standard I/O\n",
    "\n",
    "Para usar la entrada estándar, se usa la función input()\n",
    "Para usar la salida estándar, se usa la función print()"
   ]
  },
  {
   "cell_type": "code",
   "execution_count": 16,
   "id": "f9c1360b",
   "metadata": {},
   "outputs": [
    {
     "name": "stdout",
     "output_type": "stream",
     "text": [
      "input: hola mundo desde input (:\n",
      "hola mundo desde input (:\n"
     ]
    }
   ],
   "source": [
    "s = input(\"input: \")\n",
    "print(s)"
   ]
  },
  {
   "cell_type": "markdown",
   "id": "24f6eeba",
   "metadata": {},
   "source": [
    "## 1.11 Python basic functions\n",
    "\n",
    "### 1.11.1 help() function\n",
    "The Python help function is used to diplay the documentation of modules, functions, classes, keywords, etc"
   ]
  },
  {
   "cell_type": "code",
   "execution_count": 17,
   "id": "8b004e16",
   "metadata": {},
   "outputs": [
    {
     "name": "stdout",
     "output_type": "stream",
     "text": [
      "Help on built-in function print in module builtins:\n",
      "\n",
      "print(...)\n",
      "    print(value, ..., sep=' ', end='\\n', file=sys.stdout, flush=False)\n",
      "    \n",
      "    Prints the values to a stream, or to sys.stdout by default.\n",
      "    Optional keyword arguments:\n",
      "    file:  a file-like object (stream); defaults to the current sys.stdout.\n",
      "    sep:   string inserted between values, default a space.\n",
      "    end:   string appended after the last value, default a newline.\n",
      "    flush: whether to forcibly flush the stream.\n",
      "\n"
     ]
    }
   ],
   "source": [
    "help(print)"
   ]
  },
  {
   "cell_type": "markdown",
   "id": "5d1cc576",
   "metadata": {},
   "source": [
    "### 1.11.2 id() function\n",
    "\n",
    "id() returns de \"identity\" of an object. Basically everything in Python is an object.\n"
   ]
  },
  {
   "cell_type": "code",
   "execution_count": 18,
   "id": "235c9789",
   "metadata": {},
   "outputs": [
    {
     "data": {
      "text/plain": [
       "140545132476720"
      ]
     },
     "execution_count": 18,
     "metadata": {},
     "output_type": "execute_result"
    }
   ],
   "source": [
    "a = 1\n",
    "id(a)"
   ]
  },
  {
   "cell_type": "markdown",
   "id": "bd4cdfe8",
   "metadata": {},
   "source": [
    ".### type() function\n",
    "\n",
    "type() function returns the type of an object"
   ]
  },
  {
   "cell_type": "code",
   "execution_count": 19,
   "id": "74cb29b9",
   "metadata": {},
   "outputs": [
    {
     "data": {
      "text/plain": [
       "int"
      ]
     },
     "execution_count": 19,
     "metadata": {},
     "output_type": "execute_result"
    }
   ],
   "source": [
    "type(a)"
   ]
  },
  {
   "cell_type": "markdown",
   "id": "fa41a318",
   "metadata": {},
   "source": [
    "### del() function\n",
    "\n",
    "del function deletes an object"
   ]
  },
  {
   "cell_type": "code",
   "execution_count": 20,
   "id": "d93d74c0",
   "metadata": {},
   "outputs": [
    {
     "ename": "NameError",
     "evalue": "name 'a' is not defined",
     "output_type": "error",
     "traceback": [
      "\u001b[0;31m---------------------------------------------------------------------------\u001b[0m",
      "\u001b[0;31mNameError\u001b[0m                                 Traceback (most recent call last)",
      "Input \u001b[0;32mIn [20]\u001b[0m, in \u001b[0;36m<cell line: 3>\u001b[0;34m()\u001b[0m\n\u001b[1;32m      1\u001b[0m a \u001b[38;5;241m=\u001b[39m \u001b[38;5;241m1\u001b[39m\n\u001b[1;32m      2\u001b[0m \u001b[38;5;28;01mdel\u001b[39;00m(a)\n\u001b[0;32m----> 3\u001b[0m \u001b[38;5;28mprint\u001b[39m(\u001b[43ma\u001b[49m)\n",
      "\u001b[0;31mNameError\u001b[0m: name 'a' is not defined"
     ]
    }
   ],
   "source": [
    "a = 1\n",
    "del(a)\n",
    "print(a)"
   ]
  },
  {
   "cell_type": "markdown",
   "id": "d694f443",
   "metadata": {},
   "source": [
    "### len() function\n",
    "\n",
    "len displays the length (number of items) of an object"
   ]
  },
  {
   "cell_type": "code",
   "execution_count": 21,
   "id": "a52fc18b",
   "metadata": {},
   "outputs": [
    {
     "data": {
      "text/plain": [
       "5"
      ]
     },
     "execution_count": 21,
     "metadata": {},
     "output_type": "execute_result"
    }
   ],
   "source": [
    "s = \"Hello\"\n",
    "len(s)"
   ]
  },
  {
   "cell_type": "markdown",
   "id": "b7947136",
   "metadata": {},
   "source": [
    "## 2. Python data types\n",
    "\n",
    "### 2.1 Numeric: Int, float, complex\n",
    "\n",
    "#### Number data type in Python\n",
    "\n",
    "Python supports integers, float-point numbers and complex numbers.\n",
    "\n",
    "Integers and floating are separated by the presense or absence of a decimal point.\n",
    "\n",
    "Complex numbers are written in the form x+yj, where x is the real part and y the imaginary part.\n",
    "\n",
    "Integers can be of any lenght and float-point numbers are accurate only by 15 decimal places (the 16th place is inaccurate)."
   ]
  },
  {
   "cell_type": "code",
   "execution_count": 1,
   "id": "ca66d15b",
   "metadata": {},
   "outputs": [
    {
     "name": "stdout",
     "output_type": "stream",
     "text": [
      "<class 'int'>\n"
     ]
    }
   ],
   "source": [
    "a = 5\n",
    "\n",
    "print(type(a))"
   ]
  },
  {
   "cell_type": "code",
   "execution_count": 2,
   "id": "cef47d92",
   "metadata": {},
   "outputs": [
    {
     "name": "stdout",
     "output_type": "stream",
     "text": [
      "<class 'float'>\n"
     ]
    }
   ],
   "source": [
    "a = 5.0\n",
    "\n",
    "print(type(a))"
   ]
  },
  {
   "cell_type": "code",
   "execution_count": 3,
   "id": "ff13c375",
   "metadata": {},
   "outputs": [
    {
     "name": "stdout",
     "output_type": "stream",
     "text": [
      "(11+6j)\n",
      "<class 'complex'>\n"
     ]
    }
   ],
   "source": [
    "a = 5 + 6j\n",
    "\n",
    "print(6 + a)\n",
    "\n",
    "print(type(a))"
   ]
  },
  {
   "cell_type": "markdown",
   "id": "b162ed78",
   "metadata": {},
   "source": [
    "## 2.2 Text: str\n",
    "\n",
    "### 2.2.1 String \n",
    "\n",
    "In Python, a string is a sequence of Unicode characters. Unicode was introduced to include every character in all lenguages and bring uniformity in encoding. \n",
    "\n",
    "Strings can be created by enclosing characters inside a single quote or double-quotes. Even triple quotes can be used in Python but generally used to represent multiline strings and docstrins."
   ]
  },
  {
   "cell_type": "code",
   "execution_count": 4,
   "id": "57cf4f43",
   "metadata": {},
   "outputs": [
    {
     "name": "stdout",
     "output_type": "stream",
     "text": [
      "Χαίρετε Python\n",
      "Χαίρετε Python\n",
      "Χαίρετε \n",
      "\n",
      "    Python\n",
      "\n",
      "<class 'str'>\n",
      "<class 'str'>\n",
      "<class 'str'>\n"
     ]
    }
   ],
   "source": [
    "# Create a string\n",
    "\n",
    "s1 = 'Χαίρετε Python'\n",
    "s2 = \"Χαίρετε Python\"\n",
    "s3 = \"\"\"Χαίρετε \n",
    "\n",
    "    Python\n",
    "\"\"\"\n",
    "\n",
    "print(s1)\n",
    "print(s2)\n",
    "print(s3)\n",
    "\n",
    "print(type(s1))\n",
    "print(type(s2))\n",
    "print(type(s3))"
   ]
  },
  {
   "cell_type": "markdown",
   "id": "f5b34135",
   "metadata": {},
   "source": [
    "### 2.2.2 Escape characters\n",
    "\n",
    "To insert characters that are illegal in a string, use an escape character.\n",
    "\n",
    "An escape character is a backslash \\ followed by the character you want to insert.\n",
    "\n",
    "An escape sequence starts with a backslash and is iterpreted differently. If we use a single quote to represent a string, all the single quotes inside the string must be scaped. Similar in the case with double quotes."
   ]
  },
  {
   "cell_type": "code",
   "execution_count": 7,
   "id": "37dfb598",
   "metadata": {},
   "outputs": [
    {
     "name": "stdout",
     "output_type": "stream",
     "text": [
      "'Χαίρετε Python'\n"
     ]
    }
   ],
   "source": [
    "# To show single quotes in a string\n",
    "\n",
    "s = '\\'Χαίρετε Python\\''\n",
    "\n",
    "print(s)"
   ]
  },
  {
   "cell_type": "code",
   "execution_count": 10,
   "id": "1a2e12fa",
   "metadata": {},
   "outputs": [
    {
     "name": "stdout",
     "output_type": "stream",
     "text": [
      "\"Χαίρετε Python\"\n"
     ]
    }
   ],
   "source": [
    "# To show double quotes in a string\n",
    "\n",
    "s = \"\\\"Χαίρετε Python\\\"\"\n",
    "\n",
    "print(s)"
   ]
  },
  {
   "cell_type": "code",
   "execution_count": 12,
   "id": "547a0d78",
   "metadata": {},
   "outputs": [
    {
     "name": "stdout",
     "output_type": "stream",
     "text": [
      "Χαίρετε Python\\\n"
     ]
    }
   ],
   "source": [
    "# To show the Backslash in a string\n",
    "\n",
    "s = 'Χαίρετε Python\\\\'\n",
    "\n",
    "print(s)"
   ]
  },
  {
   "cell_type": "code",
   "execution_count": 13,
   "id": "1593eb8c",
   "metadata": {},
   "outputs": [
    {
     "name": "stdout",
     "output_type": "stream",
     "text": [
      "Χαίρετε \n",
      "Python\n"
     ]
    }
   ],
   "source": [
    "# To start a new line\n",
    "\n",
    "s = \"Χαίρετε \\nPython\"\n",
    "print(s)"
   ]
  },
  {
   "cell_type": "markdown",
   "id": "e2a91b12",
   "metadata": {},
   "source": [
    "## 2.2.3 Raw String\n",
    "\n",
    "Sometimes we may wish to ignore the scape sequence inside of a string. To do this we can place r or R in front of the string. This will imply that it is a raw string and any scape sequence inside it will be ignored."
   ]
  },
  {
   "cell_type": "code",
   "execution_count": 15,
   "id": "d27bd656",
   "metadata": {},
   "outputs": [
    {
     "name": "stdout",
     "output_type": "stream",
     "text": [
      "C:\\abc\\abc\\abc.txt\n"
     ]
    }
   ],
   "source": [
    "s = r\"C:\\abc\\abc\\abc.txt\"\n",
    "print(s)"
   ]
  },
  {
   "cell_type": "markdown",
   "id": "a285410b",
   "metadata": {},
   "source": [
    "## 2.2.4 Accesss characters in a string\n",
    "\n",
    "We can access individual characters using index and a range of characters using slicing. Index starts in 0. Trying to acces a character out of the index range will raise an IndexError. The ubdex must be an integer. We can't use floats or others types. This will result into an IndexError.\n",
    "\n",
    "Python allows negative indexing for its sequences.\n",
    "\n",
    "The index -1 refers to the last item, -2 to the second last item and so on. We can access a range of items in a string by using the slicing operator ':' (colon)."
   ]
  },
  {
   "cell_type": "code",
   "execution_count": 17,
   "id": "b5dcfe91",
   "metadata": {},
   "outputs": [
    {
     "name": "stdout",
     "output_type": "stream",
     "text": [
      "P\n",
      "y\n"
     ]
    }
   ],
   "source": [
    "s = \"Python\"\n",
    "\n",
    "print(s[0])\n",
    "print(s[1])"
   ]
  },
  {
   "cell_type": "code",
   "execution_count": 18,
   "id": "08587d7c",
   "metadata": {},
   "outputs": [
    {
     "name": "stdout",
     "output_type": "stream",
     "text": [
      "n\n"
     ]
    }
   ],
   "source": [
    "print(s[-1])"
   ]
  },
  {
   "cell_type": "code",
   "execution_count": 19,
   "id": "7a149c08",
   "metadata": {},
   "outputs": [
    {
     "ename": "IndexError",
     "evalue": "string index out of range",
     "output_type": "error",
     "traceback": [
      "\u001b[0;31m---------------------------------------------------------------------------\u001b[0m",
      "\u001b[0;31mIndexError\u001b[0m                                Traceback (most recent call last)",
      "Input \u001b[0;32mIn [19]\u001b[0m, in \u001b[0;36m<cell line: 1>\u001b[0;34m()\u001b[0m\n\u001b[0;32m----> 1\u001b[0m \u001b[43ms\u001b[49m\u001b[43m[\u001b[49m\u001b[38;5;241;43m99\u001b[39;49m\u001b[43m]\u001b[49m\n",
      "\u001b[0;31mIndexError\u001b[0m: string index out of range"
     ]
    }
   ],
   "source": [
    "#Index out of range\n",
    "s[99]"
   ]
  },
  {
   "cell_type": "code",
   "execution_count": 20,
   "id": "c1a01901",
   "metadata": {},
   "outputs": [
    {
     "ename": "TypeError",
     "evalue": "string indices must be integers",
     "output_type": "error",
     "traceback": [
      "\u001b[0;31m---------------------------------------------------------------------------\u001b[0m",
      "\u001b[0;31mTypeError\u001b[0m                                 Traceback (most recent call last)",
      "Input \u001b[0;32mIn [20]\u001b[0m, in \u001b[0;36m<cell line: 3>\u001b[0;34m()\u001b[0m\n\u001b[1;32m      1\u001b[0m \u001b[38;5;66;03m# error: using a float index\u001b[39;00m\n\u001b[0;32m----> 3\u001b[0m \u001b[43ms\u001b[49m\u001b[43m[\u001b[49m\u001b[38;5;241;43m1.0\u001b[39;49m\u001b[43m]\u001b[49m\n",
      "\u001b[0;31mTypeError\u001b[0m: string indices must be integers"
     ]
    }
   ],
   "source": [
    "# error: using a float index\n",
    "\n",
    "s[1.0]"
   ]
  },
  {
   "cell_type": "code",
   "execution_count": 21,
   "id": "7346ca85",
   "metadata": {},
   "outputs": [
    {
     "name": "stdout",
     "output_type": "stream",
     "text": [
      "Pyt\n"
     ]
    }
   ],
   "source": [
    "#Using slicing operator\n",
    "\n",
    "print(s[0:3])    #Python"
   ]
  },
  {
   "cell_type": "code",
   "execution_count": 22,
   "id": "f3b12537",
   "metadata": {},
   "outputs": [
    {
     "name": "stdout",
     "output_type": "stream",
     "text": [
      "Pto\n"
     ]
    }
   ],
   "source": [
    "#Also we can specify the index increment in the slicing operator\n",
    "\n",
    "print(s[0:5:2])"
   ]
  },
  {
   "cell_type": "markdown",
   "id": "d03d1a5f",
   "metadata": {},
   "source": [
    "## String operations\n",
    "\n",
    "There are many string operations that can be performed which makes it one of the most used data types in Python. \n",
    "\n",
    "Joining of two or more strings into a single one is called concatenation. The '+' operator does this in Python.\n",
    "\n",
    "The operator '*' can be used to repeat the string for a given number of times."
   ]
  },
  {
   "cell_type": "code",
   "execution_count": 2,
   "id": "bf8d0020",
   "metadata": {},
   "outputs": [
    {
     "name": "stdout",
     "output_type": "stream",
     "text": [
      "Hello Python\n"
     ]
    }
   ],
   "source": [
    "s1 = \"Hello\"\n",
    "s2 = \"Python\"\n",
    "\n",
    "print(s1+\" \"+s2)"
   ]
  },
  {
   "cell_type": "code",
   "execution_count": 3,
   "id": "731fd0c7",
   "metadata": {},
   "outputs": [
    {
     "name": "stdout",
     "output_type": "stream",
     "text": [
      "HelloHello\n"
     ]
    }
   ],
   "source": [
    "a = 2 \n",
    "print(s1*a)"
   ]
  },
  {
   "cell_type": "markdown",
   "id": "6339bf01",
   "metadata": {},
   "source": [
    "## 2.2.6 Common Python string methods\n",
    "\n",
    "There are numerous methods available with the string object.\n",
    "\n",
    "Some of the commonly used methods are lower(), upper(), join(), split(), find(), replace(), etc."
   ]
  },
  {
   "cell_type": "code",
   "execution_count": 4,
   "id": "45376670",
   "metadata": {},
   "outputs": [
    {
     "data": {
      "text/plain": [
       "['Python', 'is', 'cool']"
      ]
     },
     "execution_count": 4,
     "metadata": {},
     "output_type": "execute_result"
    }
   ],
   "source": [
    "#split\n",
    "#str.split(str1) where str is splited by str1\n",
    "\n",
    "s = \"Python is cool\"\n",
    "s.split(\" \")"
   ]
  },
  {
   "cell_type": "code",
   "execution_count": 5,
   "id": "8cbb3579",
   "metadata": {},
   "outputs": [
    {
     "data": {
      "text/plain": [
       "'ABCthon'"
      ]
     },
     "execution_count": 5,
     "metadata": {},
     "output_type": "execute_result"
    }
   ],
   "source": [
    "# replace\n",
    "# str.replace(str1,str2), replace str1 by str2\n",
    "s = \"Python\"\n",
    "s.replace(\"Py\",\"ABC\")"
   ]
  },
  {
   "cell_type": "code",
   "execution_count": 8,
   "id": "9821af77",
   "metadata": {},
   "outputs": [
    {
     "name": "stdout",
     "output_type": "stream",
     "text": [
      "python\n",
      "PYTHON\n"
     ]
    }
   ],
   "source": [
    "# Lower and Upper\n",
    "# str.lower(), lower a string\n",
    "# str.upper(), upper a string\n",
    "\n",
    "s = \"Python\"\n",
    "print(s.lower())\n",
    "print(s.upper())"
   ]
  },
  {
   "cell_type": "code",
   "execution_count": 13,
   "id": "969fb955",
   "metadata": {},
   "outputs": [
    {
     "data": {
      "text/plain": [
       "'Python--is--cool'"
      ]
     },
     "execution_count": 13,
     "metadata": {},
     "output_type": "execute_result"
    }
   ],
   "source": [
    "# join\n",
    "# str.join(iter), join the string by iter\n",
    "\"--\".join([\"Python\", \"is\", \"cool\"])"
   ]
  },
  {
   "cell_type": "markdown",
   "id": "4ea1737c",
   "metadata": {},
   "source": [
    "### 2.2.7 String formating"
   ]
  },
  {
   "cell_type": "code",
   "execution_count": 14,
   "id": "8182a767",
   "metadata": {},
   "outputs": [
    {
     "data": {
      "text/plain": [
       "\"My name is Alan and I'm 23 years old\""
      ]
     },
     "execution_count": 14,
     "metadata": {},
     "output_type": "execute_result"
    }
   ],
   "source": [
    "# switch %s and %d by \"Alan\" and 23\n",
    "\"My name is %s and I'm %d years old\" %(\"Alan\",23)"
   ]
  },
  {
   "cell_type": "markdown",
   "id": "ba879745",
   "metadata": {},
   "source": [
    "## 2.3 List\n",
    "\n",
    "List are mutable sequences, typically used to store collections of homogeneous items.\n",
    "\n",
    "List = [obj1, obj2,...,objn]"
   ]
  },
  {
   "cell_type": "code",
   "execution_count": 16,
   "id": "fc689fe7",
   "metadata": {},
   "outputs": [
    {
     "name": "stdout",
     "output_type": "stream",
     "text": [
      "[1, 2, 3, 4, 5]\n",
      "['a', 'e', 'i', 'o', 'u']\n"
     ]
    }
   ],
   "source": [
    "lst1 = [1,2,3,4,5] #create a list\n",
    "lst2 = ['a','e','i','o','u']\n",
    "\n",
    "print(lst1)\n",
    "print(lst2)"
   ]
  },
  {
   "cell_type": "code",
   "execution_count": 17,
   "id": "a60042ad",
   "metadata": {},
   "outputs": [
    {
     "name": "stdout",
     "output_type": "stream",
     "text": [
      "1\n",
      "[1, 2, 3]\n",
      "[1, 3, 5]\n"
     ]
    }
   ],
   "source": [
    "#acces items in a list\n",
    "print(lst1[0])\n",
    "print(lst1[0:3])\n",
    "print(lst1[0:5:2])"
   ]
  },
  {
   "cell_type": "code",
   "execution_count": 18,
   "id": "ae278fbd",
   "metadata": {},
   "outputs": [
    {
     "name": "stdout",
     "output_type": "stream",
     "text": [
      "1\n",
      "0\n"
     ]
    }
   ],
   "source": [
    "# items can be changed in a list\n",
    "\n",
    "print(lst1[0])\n",
    "lst1[0] = 0\n",
    "print(lst1[0])"
   ]
  },
  {
   "cell_type": "markdown",
   "id": "5aa528ad",
   "metadata": {},
   "source": [
    "### 2.3.1 List operators\n",
    "\n",
    "Same as string operators"
   ]
  },
  {
   "cell_type": "code",
   "execution_count": 25,
   "id": "5e16ac38",
   "metadata": {},
   "outputs": [
    {
     "name": "stdout",
     "output_type": "stream",
     "text": [
      "[0, 2, 3, 4, 5, 0, 2, 3, 4, 5]\n",
      "[0, 2, 3, 4, 5, 'a', 'e', 'i', 'o', 'u']\n"
     ]
    }
   ],
   "source": [
    "# * operator\n",
    "print(lst1*2)\n",
    "\n",
    "# + operator\n",
    "print(lst1+lst2)"
   ]
  },
  {
   "cell_type": "markdown",
   "id": "28c825ed",
   "metadata": {},
   "source": [
    "### 2.3.2 List methods"
   ]
  },
  {
   "cell_type": "code",
   "execution_count": 62,
   "id": "60dea543",
   "metadata": {},
   "outputs": [
    {
     "name": "stdout",
     "output_type": "stream",
     "text": [
      "['cat', 'dog', 'bird', 'fish']\n"
     ]
    }
   ],
   "source": [
    "# append\n",
    "# list.append(obj), add one item to the end of a list\n",
    "\n",
    "animals = [\"cat\",\"dog\",\"bird\"]\n",
    "animals.append(\"fish\")\n",
    "print(animals)"
   ]
  },
  {
   "cell_type": "code",
   "execution_count": 63,
   "id": "0c54a849",
   "metadata": {},
   "outputs": [
    {
     "name": "stdout",
     "output_type": "stream",
     "text": [
      "['dog', 'bird', 'fish']\n"
     ]
    }
   ],
   "source": [
    "# remove\n",
    "# list.remove(obj), remove one or more items from a list\n",
    "\n",
    "animals.remove(\"cat\")\n",
    "print(animals)\n"
   ]
  },
  {
   "cell_type": "code",
   "execution_count": 64,
   "id": "e1e4a794",
   "metadata": {},
   "outputs": [
    {
     "name": "stdout",
     "output_type": "stream",
     "text": [
      "['dog', 'bird', 'fish', 'horse']\n"
     ]
    }
   ],
   "source": [
    "# insert\n",
    "# list.insert(i,obj), insert an object at the defined index\n",
    "\n",
    "animals.insert(4,\"horse\")\n",
    "print(animals)\n",
    "# note: if the index is greater than the last index, then insert is like append"
   ]
  },
  {
   "cell_type": "code",
   "execution_count": 66,
   "id": "66561f63",
   "metadata": {},
   "outputs": [
    {
     "name": "stdout",
     "output_type": "stream",
     "text": [
      "fish\n",
      "['dog', 'bird']\n"
     ]
    }
   ],
   "source": [
    "# pop\n",
    "# list.pop(), removes and returns the last item if the index is no provided\n",
    "\n",
    "print(animals.pop())\n",
    "print(animals)\n"
   ]
  },
  {
   "cell_type": "code",
   "execution_count": 67,
   "id": "5795d7a3",
   "metadata": {},
   "outputs": [
    {
     "name": "stdout",
     "output_type": "stream",
     "text": [
      "0 dog\n",
      "1 bird\n"
     ]
    }
   ],
   "source": [
    "# enumerate\n",
    "# enumerat(sequence), adds counter to an iterable and returns it\n",
    "\n",
    "for i, x in enumerate(animals):\n",
    "    print(i,x)"
   ]
  },
  {
   "cell_type": "code",
   "execution_count": 69,
   "id": "8fc97a02",
   "metadata": {},
   "outputs": [
    {
     "name": "stdout",
     "output_type": "stream",
     "text": [
      "[1, 5, 6, 22, 33]\n"
     ]
    }
   ],
   "source": [
    "# list sort\n",
    "# list.sort(cmp = None, key=None, reverse=false), sort the elements of a given list in a specific ascend\n",
    "l = [33,22,1,5,6]\n",
    "l.sort()\n",
    "print(l)"
   ]
  },
  {
   "cell_type": "code",
   "execution_count": 70,
   "id": "8db24277",
   "metadata": {},
   "outputs": [
    {
     "name": "stdout",
     "output_type": "stream",
     "text": [
      "[33, 22, 6, 5, 1]\n"
     ]
    }
   ],
   "source": [
    "# reverse\n",
    "# l.reverse(), reverses the elements of a list\n",
    "l.reverse()\n",
    "print(l)"
   ]
  },
  {
   "cell_type": "code",
   "execution_count": 72,
   "id": "1fc71dba",
   "metadata": {},
   "outputs": [
    {
     "name": "stdout",
     "output_type": "stream",
     "text": [
      "['dogdog', 'birdbird']\n"
     ]
    }
   ],
   "source": [
    "# List Comprehension\n",
    "# define  and create a list based in existing list.\n",
    "squares = [x*2 for x in animals]\n",
    "print(squares)"
   ]
  },
  {
   "cell_type": "markdown",
   "id": "f44cdafb",
   "metadata": {},
   "source": [
    "### 2.3.3 Lists slicing and indexing\n",
    "\n",
    "List indexing returns the index of the specified element in the list."
   ]
  },
  {
   "cell_type": "code",
   "execution_count": 73,
   "id": "c9e1edbc",
   "metadata": {},
   "outputs": [
    {
     "name": "stdout",
     "output_type": "stream",
     "text": [
      "3\n"
     ]
    }
   ],
   "source": [
    "# outer and inner list\n",
    "l = [[1,2],[3,4]]\n",
    "print(l[1][0])"
   ]
  },
  {
   "cell_type": "code",
   "execution_count": 78,
   "id": "e776a0a3",
   "metadata": {},
   "outputs": [
    {
     "name": "stdout",
     "output_type": "stream",
     "text": [
      "[0, 1, 2, 3, 4, 5]\n",
      "[0, 2, 4]\n",
      "[1, 2, 3]\n"
     ]
    }
   ],
   "source": [
    "# Slicing. It's the same as string\n",
    "l = [1,3,5,2,4,0]\n",
    "l.sort()\n",
    "print(l)\n",
    "print(l[::2])\n",
    "print(l[1:4:1])"
   ]
  },
  {
   "cell_type": "markdown",
   "id": "a8fecd90",
   "metadata": {},
   "source": [
    "## 2.4 Tuples \n",
    "\n",
    "Tuples are immutable sequences, typically used to storage collections of heterogeneous data (such as the 2-tuples produced by the enumerate() build-in). Tuples also are used for cases where an inmutable sequence of homogeneous data is needed (such as allowing storage in a set or dict instance).\n",
    "\n",
    "Syntaxis.\n",
    "\n",
    "tuple = (obj1,obj2,...,objn) "
   ]
  },
  {
   "cell_type": "code",
   "execution_count": 79,
   "id": "f6e68e77",
   "metadata": {},
   "outputs": [
    {
     "name": "stdout",
     "output_type": "stream",
     "text": [
      "(1, [0, 1], 'Python')\n",
      "t: <class 'tuple'>\n"
     ]
    }
   ],
   "source": [
    "# Create a tuple\n",
    "t = (1,[0,1],\"Python\")\n",
    "print(t)\n",
    "print(\"t:\", type(t))"
   ]
  },
  {
   "cell_type": "code",
   "execution_count": 81,
   "id": "97451de1",
   "metadata": {},
   "outputs": [
    {
     "name": "stdout",
     "output_type": "stream",
     "text": [
      "a: <class 'int'>\n",
      "b: <class 'tuple'>\n"
     ]
    }
   ],
   "source": [
    "# Create a tuple with an item\n",
    "\n",
    "a = (5)\n",
    "b = (5,) # ',' is requeried\n",
    "print(\"a:\",type(a))\n",
    "print(\"b:\",type(b))"
   ]
  },
  {
   "cell_type": "code",
   "execution_count": 82,
   "id": "8efcbd9d",
   "metadata": {},
   "outputs": [
    {
     "name": "stdout",
     "output_type": "stream",
     "text": [
      "[0, 1]\n"
     ]
    }
   ],
   "source": [
    "# tuple indexing\n",
    "t = (1,[0,1],\"Python\")\n",
    "print(t[1])"
   ]
  },
  {
   "cell_type": "code",
   "execution_count": 83,
   "id": "61f3e388",
   "metadata": {},
   "outputs": [
    {
     "ename": "TypeError",
     "evalue": "'tuple' object does not support item assignment",
     "output_type": "error",
     "traceback": [
      "\u001b[0;31m---------------------------------------------------------------------------\u001b[0m",
      "\u001b[0;31mTypeError\u001b[0m                                 Traceback (most recent call last)",
      "Input \u001b[0;32mIn [83]\u001b[0m, in \u001b[0;36m<cell line: 2>\u001b[0;34m()\u001b[0m\n\u001b[1;32m      1\u001b[0m \u001b[38;5;66;03m# tuples are unchangeable\u001b[39;00m\n\u001b[0;32m----> 2\u001b[0m t[\u001b[38;5;241m1\u001b[39m] \u001b[38;5;241m=\u001b[39m \u001b[38;5;241m0\u001b[39m\n",
      "\u001b[0;31mTypeError\u001b[0m: 'tuple' object does not support item assignment"
     ]
    }
   ],
   "source": [
    "# tuples are unchangeable\n",
    "t[1] = 0"
   ]
  },
  {
   "cell_type": "markdown",
   "id": "75874452",
   "metadata": {},
   "source": [
    "## 2.5 Dictionaries\n",
    "\n",
    "A dictionary is an unordered collection of items. Each item of a dictionary has a key: value pair. The keys within one dictionary are unique. If you store data using a key that is already in use, the old value associated with that key is forgotten. Extracting a value using a non-existent key will cause error.\n",
    "\n",
    "Dictionaries are unordered, changeable and does not allow duplicates. A pair of braces creates an empty dictiorary \"{}\".\n",
    "\n",
    "{'key' : value}"
   ]
  },
  {
   "cell_type": "code",
   "execution_count": 1,
   "id": "2bd871e4",
   "metadata": {},
   "outputs": [
    {
     "name": "stdout",
     "output_type": "stream",
     "text": [
      "{'food': 'spam', 'quantity': 4, 'color': 'pink'}\n",
      "{'food': 'spam', 'quantity': 4, 'color': 'pink'}\n",
      "{'food': 'spam', 'quantity': 4, 'color': 'pink'}\n"
     ]
    }
   ],
   "source": [
    "# Create a dictionary in three different ways\n",
    "\n",
    "x = {\"food\": \"spam\", \"quantity\": 4, \"color\": \"pink\"}\n",
    "x2 = dict(food = \"spam\", quantity = 4, color = \"pink\")\n",
    "x3 = dict([(\"food\", \"spam\"),(\"quantity\", 4),(\"color\", \"pink\")])\n",
    "\n",
    "print(x)\n",
    "print(x2)\n",
    "print(x3)"
   ]
  },
  {
   "cell_type": "markdown",
   "id": "2eb3db93",
   "metadata": {},
   "source": [
    "### Acces items in dictionaries"
   ]
  },
  {
   "cell_type": "code",
   "execution_count": 2,
   "id": "dc623d8f",
   "metadata": {},
   "outputs": [
    {
     "name": "stdout",
     "output_type": "stream",
     "text": [
      "spam\n"
     ]
    }
   ],
   "source": [
    "# Extract values in  a dictionary\n",
    "print(x[\"food\"])"
   ]
  },
  {
   "cell_type": "code",
   "execution_count": 3,
   "id": "ea3cd0cf",
   "metadata": {},
   "outputs": [
    {
     "ename": "KeyError",
     "evalue": "'a'",
     "output_type": "error",
     "traceback": [
      "\u001b[1;31m---------------------------------------------------------------------------\u001b[0m",
      "\u001b[1;31mKeyError\u001b[0m                                  Traceback (most recent call last)",
      "Input \u001b[1;32mIn [3]\u001b[0m, in \u001b[0;36m<cell line: 2>\u001b[1;34m()\u001b[0m\n\u001b[0;32m      1\u001b[0m \u001b[38;5;66;03m# Report an error when extrac a value using a non-existent key.\u001b[39;00m\n\u001b[1;32m----> 2\u001b[0m \u001b[38;5;28mprint\u001b[39m(\u001b[43mx\u001b[49m\u001b[43m[\u001b[49m\u001b[38;5;124;43m\"\u001b[39;49m\u001b[38;5;124;43ma\u001b[39;49m\u001b[38;5;124;43m\"\u001b[39;49m\u001b[43m]\u001b[49m)\n",
      "\u001b[1;31mKeyError\u001b[0m: 'a'"
     ]
    }
   ],
   "source": [
    "# Report an error when extrac a value using a non-existent key.\n",
    "print(x[\"a\"])"
   ]
  },
  {
   "cell_type": "code",
   "execution_count": 6,
   "id": "276c0fa0",
   "metadata": {},
   "outputs": [
    {
     "name": "stdout",
     "output_type": "stream",
     "text": [
      "spam\n",
      "None\n",
      "cannot find a\n"
     ]
    }
   ],
   "source": [
    "# Extract values by get(key,[\"str\"])\n",
    "print(x.get(\"food\"))\n",
    "print(x.get(\"a\")) # by get() method returns none when extract a value using a non-existent key.\n",
    "print(x.get(\"a\",\"cannot find a\")) # specified return value when extract a value using a non-existent key. "
   ]
  },
  {
   "cell_type": "code",
   "execution_count": 7,
   "id": "b8ed34da",
   "metadata": {},
   "outputs": [
    {
     "name": "stdout",
     "output_type": "stream",
     "text": [
      "dict_values(['spam', 4, 'pink'])\n",
      "dict_keys(['food', 'quantity', 'color'])\n",
      "dict_items([('food', 'spam'), ('quantity', 4), ('color', 'pink')])\n"
     ]
    }
   ],
   "source": [
    "# Extract all values\n",
    "print(x.values())\n",
    "\n",
    "# Extract all keys\n",
    "print(x.keys())\n",
    "\n",
    "# Extract all key: value pairs\n",
    "\n",
    "print(x.items())"
   ]
  },
  {
   "cell_type": "code",
   "execution_count": 12,
   "id": "48b5e106",
   "metadata": {},
   "outputs": [
    {
     "name": "stdout",
     "output_type": "stream",
     "text": [
      "{'food': 'spam', 'quantity': 0, 'color': 'pink', 'x_key': 'x_value'}\n"
     ]
    }
   ],
   "source": [
    "# Insert an item to a dictionary\n",
    "# dictionary[key] = value\n",
    "x[\"x_key\"] = \"x_value\"\n",
    "print(x)"
   ]
  },
  {
   "cell_type": "code",
   "execution_count": 21,
   "id": "d95ff915",
   "metadata": {},
   "outputs": [
    {
     "name": "stdout",
     "output_type": "stream",
     "text": [
      "{'food': 'spam', 'quantity': 0, 'color': 'pink', 'x_key': 'x_value'}\n"
     ]
    }
   ],
   "source": [
    "# Add a duplicate item (the dictionary doesn't change)\n",
    "x[\"x_key\"] = \"x_value\"\n",
    "print(x)"
   ]
  },
  {
   "cell_type": "code",
   "execution_count": 9,
   "id": "c2497883",
   "metadata": {},
   "outputs": [
    {
     "name": "stdout",
     "output_type": "stream",
     "text": [
      "{'food': 'spam', 'quantity': 0, 'color': 'pink', 'x_key': 'x_value'}\n"
     ]
    }
   ],
   "source": [
    "# Change an item in a dictionary\n",
    "\n",
    "x[\"quantity\"] = 0\n",
    "print(x)"
   ]
  },
  {
   "cell_type": "code",
   "execution_count": 10,
   "id": "0956141d",
   "metadata": {},
   "outputs": [
    {
     "name": "stdout",
     "output_type": "stream",
     "text": [
      "<class 'dict'>\n",
      "{}\n"
     ]
    }
   ],
   "source": [
    "# Create an empty dictionary\n",
    "\n",
    "empty = {}\n",
    "print(type(empty))\n",
    "print(empty)"
   ]
  },
  {
   "cell_type": "markdown",
   "id": "5309a0d6",
   "metadata": {},
   "source": [
    "## 2.6 Sets\n",
    "\n",
    "A set is an unordered collection with no duplicate elemnts. \n",
    "\n",
    "Set objects also support mathematical operation like union, intersection, difference, and symmetric difference.\n",
    "\n",
    "Curly braces or the set() function can be used to create sets. \n",
    "\n",
    "Note: to create an empty set you have to use set(), not {}; the latter creaters an empty dictionary.\n",
    "\n",
    "{obj1, obj2,..., objn}"
   ]
  },
  {
   "cell_type": "code",
   "execution_count": 23,
   "id": "542b1366",
   "metadata": {},
   "outputs": [
    {
     "name": "stdout",
     "output_type": "stream",
     "text": [
      "{1, 2, 3, 4, 5}\n",
      "{'prince', 'techs'}\n"
     ]
    }
   ],
   "source": [
    "# Create a new set\n",
    "\n",
    "cjto = {1,2,1,3,3,4,5} # duplicates are ignored\n",
    "cjto2 = set([\"prince\", \"techs\"])\n",
    "print(cjto)\n",
    "print(cjto2)"
   ]
  },
  {
   "cell_type": "code",
   "execution_count": 24,
   "id": "8be71077",
   "metadata": {},
   "outputs": [
    {
     "name": "stdout",
     "output_type": "stream",
     "text": [
      "True\n",
      "False\n"
     ]
    }
   ],
   "source": [
    "# Check if a value is in a set\n",
    "\n",
    "print(5 in cjto)\n",
    "print(\"king\" in cjto2)"
   ]
  },
  {
   "cell_type": "code",
   "execution_count": 27,
   "id": "c5fecb12",
   "metadata": {},
   "outputs": [
    {
     "name": "stdout",
     "output_type": "stream",
     "text": [
      "{1, 2, 3, 4, 5}\n",
      "{'prince', 'king', 'techs'}\n"
     ]
    }
   ],
   "source": [
    "# Add an object to a set\n",
    "# If the object already exist then it will be ignored\n",
    "\n",
    "cjto.add(5)\n",
    "cjto2.add(\"king\")\n",
    "print(cjto)\n",
    "print(cjto2)"
   ]
  },
  {
   "cell_type": "code",
   "execution_count": 28,
   "id": "ee98d1f5",
   "metadata": {},
   "outputs": [
    {
     "name": "stdout",
     "output_type": "stream",
     "text": [
      "5\n",
      "{1, 2, 3, 5}\n",
      "4\n"
     ]
    }
   ],
   "source": [
    "# Removes an element from a set\n",
    "print(len(cjto))\n",
    "cjto.remove(4)\n",
    "print(cjto)\n",
    "print(len(cjto))"
   ]
  },
  {
   "cell_type": "code",
   "execution_count": 33,
   "id": "e9be6f11",
   "metadata": {},
   "outputs": [
    {
     "ename": "AttributeError",
     "evalue": "'frozenset' object has no attribute 'add'",
     "output_type": "error",
     "traceback": [
      "\u001b[1;31m---------------------------------------------------------------------------\u001b[0m",
      "\u001b[1;31mAttributeError\u001b[0m                            Traceback (most recent call last)",
      "Input \u001b[1;32mIn [33]\u001b[0m, in \u001b[0;36m<cell line: 4>\u001b[1;34m()\u001b[0m\n\u001b[0;32m      1\u001b[0m \u001b[38;5;66;03m# Unchangeable set\u001b[39;00m\n\u001b[0;32m      2\u001b[0m cjto2 \u001b[38;5;241m=\u001b[39m \u001b[38;5;28mfrozenset\u001b[39m(cjto2)\n\u001b[1;32m----> 4\u001b[0m cjto2 \u001b[38;5;241m=\u001b[39m \u001b[43mcjto2\u001b[49m\u001b[38;5;241;43m.\u001b[39;49m\u001b[43madd\u001b[49m(\u001b[38;5;124m\"\u001b[39m\u001b[38;5;124mqueen\u001b[39m\u001b[38;5;124m\"\u001b[39m)\n",
      "\u001b[1;31mAttributeError\u001b[0m: 'frozenset' object has no attribute 'add'"
     ]
    }
   ],
   "source": [
    "# Unchangeable set\n",
    "cjto2 = frozenset(cjto2)\n",
    "\n",
    "cjto2 = cjto2.add(\"queen\")"
   ]
  },
  {
   "cell_type": "markdown",
   "id": "e57ef4bf",
   "metadata": {},
   "source": [
    "# 2.7 Operations on data"
   ]
  },
  {
   "cell_type": "markdown",
   "id": "6d85d065",
   "metadata": {},
   "source": [
    "## 2.7.1 Deep copy and Shallow copy\n",
    "\n",
    "Assignment statements in Python do not copy objects, they create bindings between a target and an object. For collections that are mutable or contain mutable items, a copy is sometimes needed so one can change one copy without changing the other.\n",
    "\n",
    "copy.copy(x)\n",
    "     \n",
    "     * Return a shallow copy of x.\n",
    "     \n",
    "copy.deepcopy(x[, memo])\n",
    "    \n",
    "    * Return a deep copy of x.\n",
    "\n",
    "The difference between shallow and deep copying is only relevant for compound objects (objects that contain other objects, like lists or class intances)\n",
    "\n",
    "    * A shallow copy constructs a new compound object and then (to the extent possible) inserts references into it to the objects found in the original.\n",
    "    * A deep copy constructs a new compound object and then, recursively, inserts copies into it of the objects found in the original.\n"
   ]
  },
  {
   "cell_type": "code",
   "execution_count": 1,
   "id": "b45cd9e0",
   "metadata": {},
   "outputs": [
    {
     "name": "stdout",
     "output_type": "stream",
     "text": [
      "[99, 2, 3, [4, 5]]\n"
     ]
    }
   ],
   "source": [
    "# When we want to copy one object to another, we don't use the '=' operator \n",
    "# because in the assignment it refers at the same object, e.g.\n",
    "\n",
    "a = [1,2,3,[4,5]]\n",
    "b = a #assign a to b\n",
    "b[0] = 99\n",
    "print(a)"
   ]
  },
  {
   "cell_type": "code",
   "execution_count": 6,
   "id": "905ba3a4",
   "metadata": {},
   "outputs": [
    {
     "name": "stdout",
     "output_type": "stream",
     "text": [
      "[1, 2, 3, [4, 5]]\n"
     ]
    }
   ],
   "source": [
    "# Shallow copy \n",
    "# creates a copy with the references of the original object (list, etc)\n",
    "a = [1,2,3,[4,5]]\n",
    "b = a.copy() #shallow copy\n",
    "b[0] = 99\n",
    "print(a) # a doesn't change in most cases (the reference to a[3] is the same)"
   ]
  },
  {
   "cell_type": "code",
   "execution_count": 7,
   "id": "21d0ea08",
   "metadata": {},
   "outputs": [
    {
     "name": "stdout",
     "output_type": "stream",
     "text": [
      "[1, 2, 3, [0, 5]]\n"
     ]
    }
   ],
   "source": [
    "b[3][0] = 0\n",
    "print(a)"
   ]
  },
  {
   "cell_type": "code",
   "execution_count": 9,
   "id": "7caf65ad",
   "metadata": {},
   "outputs": [
    {
     "name": "stdout",
     "output_type": "stream",
     "text": [
      "[1, 2, 3, [4, 5]]\n"
     ]
    }
   ],
   "source": [
    "#Deep copy\n",
    "# if we want a totally separate copy, we use deep copy\n",
    "import copy\n",
    "a = [1,2,3,[4,5]]\n",
    "b = copy.deepcopy(a)\n",
    "b[3][0] = 0\n",
    "print(a)"
   ]
  },
  {
   "cell_type": "markdown",
   "id": "14221e48",
   "metadata": {},
   "source": [
    "## 2.7.2 Operators"
   ]
  },
  {
   "cell_type": "code",
   "execution_count": 10,
   "id": "b5856912",
   "metadata": {},
   "outputs": [
    {
     "name": "stdout",
     "output_type": "stream",
     "text": [
      "True\n"
     ]
    }
   ],
   "source": [
    "#Membership\n",
    "a = [1,2,3,4,5]\n",
    "print(1 in a)"
   ]
  },
  {
   "cell_type": "code",
   "execution_count": 11,
   "id": "4cf4c217",
   "metadata": {},
   "outputs": [
    {
     "name": "stdout",
     "output_type": "stream",
     "text": [
      "True\n"
     ]
    }
   ],
   "source": [
    "print(0 not in a)"
   ]
  },
  {
   "cell_type": "code",
   "execution_count": 14,
   "id": "915bc430",
   "metadata": {},
   "outputs": [
    {
     "name": "stdout",
     "output_type": "stream",
     "text": [
      "True\n",
      "False\n",
      "True\n",
      "True\n"
     ]
    }
   ],
   "source": [
    "# Identity operators\n",
    "a = [1,2]\n",
    "b = a\n",
    "c = a.copy()\n",
    "print(a is b) #Both are the same object (same memory)\n",
    "print(a is c) #different memory block\n",
    "print(a == c) #Same content\n",
    "print(a == b == c)"
   ]
  }
 ],
 "metadata": {
  "kernelspec": {
   "display_name": "Python 3 (ipykernel)",
   "language": "python",
   "name": "python3"
  },
  "language_info": {
   "codemirror_mode": {
    "name": "ipython",
    "version": 3
   },
   "file_extension": ".py",
   "mimetype": "text/x-python",
   "name": "python",
   "nbconvert_exporter": "python",
   "pygments_lexer": "ipython3",
   "version": "3.9.12"
  }
 },
 "nbformat": 4,
 "nbformat_minor": 5
}
