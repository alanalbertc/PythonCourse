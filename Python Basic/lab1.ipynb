{
 "cells": [
  {
   "cell_type": "markdown",
   "id": "e909e19c",
   "metadata": {},
   "source": [
    "# Python basics"
   ]
  },
  {
   "cell_type": "markdown",
   "id": "8ccdd841",
   "metadata": {},
   "source": [
    "## Función print()\n",
    "La cadena del argumento de la función puede estar en comillas simples, dobles o triples para indicar múltiples líneas"
   ]
  },
  {
   "cell_type": "code",
   "execution_count": 1,
   "id": "075c5e1f",
   "metadata": {},
   "outputs": [
    {
     "name": "stdout",
     "output_type": "stream",
     "text": [
      "Hello world\n",
      "Hello world\n",
      "\n",
      "Hello \n",
      "\n",
      "world\n",
      "\n"
     ]
    }
   ],
   "source": [
    "print('Hello world')\n",
    "print(\"Hello world\")\n",
    "print(\"\"\"\n",
    "Hello \n",
    "\n",
    "world\n",
    "\"\"\")"
   ]
  },
  {
   "cell_type": "markdown",
   "id": "b4b7ef42",
   "metadata": {},
   "source": [
    "## Comentarios\n",
    "\n",
    "Para agregar un comentario de una sola línea se puede usar # (en el código)\n",
    "\n",
    "Para agregar comentarios de múltiples líneas se puede usar un '#' por cada línea o usar comillas triples.\n"
   ]
  },
  {
   "cell_type": "code",
   "execution_count": null,
   "id": "ae830ce2",
   "metadata": {},
   "outputs": [],
   "source": [
    "print(\"hello world\") #Este es un comentario"
   ]
  },
  {
   "cell_type": "code",
   "execution_count": 2,
   "id": "22b25206",
   "metadata": {},
   "outputs": [
    {
     "name": "stdout",
     "output_type": "stream",
     "text": [
      "hello world\n"
     ]
    }
   ],
   "source": [
    "\"\"\"\n",
    "Este es un comentario de \n",
    "múltiples líneas\n",
    "\n",
    "\"\"\"\n",
    "\n",
    "print(\"hello world\")"
   ]
  },
  {
   "cell_type": "markdown",
   "id": "2151faa8",
   "metadata": {},
   "source": [
    "## Packages and modules\n",
    "\n",
    "Definición de module.\n",
    "Un \"module\" en Python es un archivo que contiene código de Python.\n",
    "\n",
    "Definición de package.\n",
    "Un \"package\" es como una carpeta que contiene modules y subcarpetas.\n",
    "\n",
    "Definición de librería.\n",
    "Una librería contiene múltiples modules.\n",
    "\n",
    "Conforme un proyecto de Python va creciendo, se agrupan \"modules\" similares en un \"package\" y diferentes \"modules\" en diferentes \"packages\".\n",
    "\n",
    "Esto hace a un proyecto (programa) fácil de manejar y conceptualmente claro.\n",
    "\n",
    "### Usar un package en Python\n",
    "\n",
    "import <package_name>\n",
    "\n",
    "### Usar un module en Python\n",
    "\n",
    "from <package_name> import <module>\n"
   ]
  },
  {
   "cell_type": "code",
   "execution_count": 3,
   "id": "5ad46f88",
   "metadata": {},
   "outputs": [
    {
     "data": {
      "text/plain": [
       "'C:\\\\Users\\\\alan_\\\\Documents\\\\Programming\\\\Python-course\\\\Python Basic'"
      ]
     },
     "execution_count": 3,
     "metadata": {},
     "output_type": "execute_result"
    }
   ],
   "source": [
    "import os #Import os module\n",
    "os.getcwd() #Get the current working directory"
   ]
  },
  {
   "cell_type": "code",
   "execution_count": 4,
   "id": "34331c2d",
   "metadata": {},
   "outputs": [
    {
     "data": {
      "text/plain": [
       "'C:\\\\Users\\\\alan_\\\\Documents\\\\Programming\\\\Python-course\\\\Python Basic'"
      ]
     },
     "execution_count": 4,
     "metadata": {},
     "output_type": "execute_result"
    }
   ],
   "source": [
    "from os import getcwd #import getcwd method from os module\n",
    "getcwd()"
   ]
  },
  {
   "cell_type": "markdown",
   "id": "9f851b93",
   "metadata": {},
   "source": [
    "### Si un package es un difícil de llamar se usan alias"
   ]
  },
  {
   "cell_type": "code",
   "execution_count": 5,
   "id": "4f99370d",
   "metadata": {},
   "outputs": [
    {
     "data": {
      "text/plain": [
       "'Windows-10-10.0.19041-SP0'"
      ]
     },
     "execution_count": 5,
     "metadata": {},
     "output_type": "execute_result"
    }
   ],
   "source": [
    "import platform\n",
    "\n",
    "platform.platform()"
   ]
  },
  {
   "cell_type": "code",
   "execution_count": 6,
   "id": "6ba61ab5",
   "metadata": {},
   "outputs": [
    {
     "data": {
      "text/plain": [
       "'Windows-10-10.0.19041-SP0'"
      ]
     },
     "execution_count": 6,
     "metadata": {},
     "output_type": "execute_result"
    }
   ],
   "source": [
    "import platform as pf\n",
    "pf.platform()"
   ]
  },
  {
   "cell_type": "code",
   "execution_count": null,
   "id": "83a71442",
   "metadata": {},
   "outputs": [],
   "source": []
  }
 ],
 "metadata": {
  "kernelspec": {
   "display_name": "Python 3 (ipykernel)",
   "language": "python",
   "name": "python3"
  },
  "language_info": {
   "codemirror_mode": {
    "name": "ipython",
    "version": 3
   },
   "file_extension": ".py",
   "mimetype": "text/x-python",
   "name": "python",
   "nbconvert_exporter": "python",
   "pygments_lexer": "ipython3",
   "version": "3.7.13"
  }
 },
 "nbformat": 4,
 "nbformat_minor": 5
}
